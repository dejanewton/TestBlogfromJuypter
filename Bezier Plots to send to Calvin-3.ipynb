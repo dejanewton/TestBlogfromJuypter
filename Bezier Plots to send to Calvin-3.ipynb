{
 "cells": [
  {
   "cell_type": "code",
   "execution_count": 38,
   "id": "related-cookie",
   "metadata": {},
   "outputs": [],
   "source": [
    "import warnings\n",
    "warnings.simplefilter(action='ignore', category=FutureWarning)\n",
    "\n",
    "import pandas"
   ]
  },
  {
   "cell_type": "code",
   "execution_count": 39,
   "id": "dominican-documentation",
   "metadata": {},
   "outputs": [],
   "source": [
    "import pandas as pd\n",
    "import numpy as np\n",
    "import matplotlib.pyplot as plt"
   ]
  },
  {
   "cell_type": "code",
   "execution_count": 40,
   "id": "seventh-headset",
   "metadata": {},
   "outputs": [],
   "source": [
    "import pandas as pd"
   ]
  },
  {
   "cell_type": "code",
   "execution_count": 41,
   "id": "designing-robinson",
   "metadata": {},
   "outputs": [],
   "source": [
    "dfs = pd.read_excel(r'/Users/dejanewton/Desktop/beziercurve.xls', sheet_name='Sheet3')"
   ]
  },
  {
   "cell_type": "code",
   "execution_count": 42,
   "id": "overall-horizontal",
   "metadata": {},
   "outputs": [],
   "source": [
    "import pandas as pd"
   ]
  },
  {
   "cell_type": "code",
   "execution_count": 43,
   "id": "streaming-mortgage",
   "metadata": {},
   "outputs": [],
   "source": [
    "import ipywidgets as widgets\n",
    "from ipywidgets import interact, interact_manual"
   ]
  },
  {
   "cell_type": "code",
   "execution_count": 44,
   "id": "generous-liverpool",
   "metadata": {},
   "outputs": [
    {
     "data": {
      "text/html": [
       "        <script type=\"text/javascript\">\n",
       "        window.PlotlyConfig = {MathJaxConfig: 'local'};\n",
       "        if (window.MathJax) {MathJax.Hub.Config({SVG: {font: \"STIX-Web\"}});}\n",
       "        if (typeof require !== 'undefined') {\n",
       "        require.undef(\"plotly\");\n",
       "        requirejs.config({\n",
       "            paths: {\n",
       "                'plotly': ['https://cdn.plot.ly/plotly-latest.min']\n",
       "            }\n",
       "        });\n",
       "        require(['plotly'], function(Plotly) {\n",
       "            window._Plotly = Plotly;\n",
       "        });\n",
       "        }\n",
       "        </script>\n",
       "        "
      ]
     },
     "metadata": {},
     "output_type": "display_data"
    },
    {
     "data": {
      "text/html": [
       "        <script type=\"text/javascript\">\n",
       "        window.PlotlyConfig = {MathJaxConfig: 'local'};\n",
       "        if (window.MathJax) {MathJax.Hub.Config({SVG: {font: \"STIX-Web\"}});}\n",
       "        if (typeof require !== 'undefined') {\n",
       "        require.undef(\"plotly\");\n",
       "        requirejs.config({\n",
       "            paths: {\n",
       "                'plotly': ['https://cdn.plot.ly/plotly-latest.min']\n",
       "            }\n",
       "        });\n",
       "        require(['plotly'], function(Plotly) {\n",
       "            window._Plotly = Plotly;\n",
       "        });\n",
       "        }\n",
       "        </script>\n",
       "        "
      ]
     },
     "metadata": {},
     "output_type": "display_data"
    }
   ],
   "source": [
    "# Standard plotly imports\n",
    "import plotly.graph_objects as py\n",
    "import plotly.graph_objs as go\n",
    "from plotly.offline import iplot, init_notebook_mode\n",
    "# Using plotly + cufflinks in offline mode\n",
    "import cufflinks\n",
    "cufflinks.go_offline(connected=True)\n",
    "init_notebook_mode(connected=True)"
   ]
  },
  {
   "cell_type": "code",
   "execution_count": 45,
   "id": "remarkable-headquarters",
   "metadata": {
    "scrolled": true
   },
   "outputs": [
    {
     "data": {
      "application/vnd.plotly.v1+json": {
       "config": {
        "linkText": "Export to plot.ly",
        "plotlyServerURL": "https://plot.ly",
        "showLink": true
       },
       "data": [
        {
         "marker": {
          "color": "rgba(255, 153, 51, 1.0)",
          "line": {
           "width": 1.3
          },
          "opacity": 0.8,
          "size": 12,
          "symbol": "circle"
         },
         "mode": "markers",
         "name": "-99.22",
         "textfont": {
          "color": "#4D5663"
         },
         "type": "scatter",
         "x": [
          67.84
         ],
         "y": [
          -99.22
         ]
        },
        {
         "marker": {
          "color": "rgba(55, 128, 191, 1.0)",
          "line": {
           "width": 1.3
          },
          "opacity": 0.8,
          "size": 12,
          "symbol": "circle"
         },
         "mode": "markers",
         "name": "-98.38",
         "textfont": {
          "color": "#4D5663"
         },
         "type": "scatter",
         "x": [
          65.75
         ],
         "y": [
          -98.38
         ]
        },
        {
         "marker": {
          "color": "rgba(50, 171, 96, 1.0)",
          "line": {
           "width": 1.3
          },
          "opacity": 0.8,
          "size": 12,
          "symbol": "circle"
         },
         "mode": "markers",
         "name": "-97.48",
         "textfont": {
          "color": "#4D5663"
         },
         "type": "scatter",
         "x": [
          63.71
         ],
         "y": [
          -97.48
         ]
        },
        {
         "marker": {
          "color": "rgba(128, 0, 128, 1.0)",
          "line": {
           "width": 1.3
          },
          "opacity": 0.8,
          "size": 12,
          "symbol": "circle"
         },
         "mode": "markers",
         "name": "-96.53",
         "textfont": {
          "color": "#4D5663"
         },
         "type": "scatter",
         "x": [
          61.74
         ],
         "y": [
          -96.53
         ]
        },
        {
         "marker": {
          "color": "rgba(219, 64, 82, 1.0)",
          "line": {
           "width": 1.3
          },
          "opacity": 0.8,
          "size": 12,
          "symbol": "circle"
         },
         "mode": "markers",
         "name": "-95.52",
         "textfont": {
          "color": "#4D5663"
         },
         "type": "scatter",
         "x": [
          59.82
         ],
         "y": [
          -95.52
         ]
        },
        {
         "marker": {
          "color": "rgba(0, 128, 128, 1.0)",
          "line": {
           "width": 1.3
          },
          "opacity": 0.8,
          "size": 12,
          "symbol": "circle"
         },
         "mode": "markers",
         "name": "-94.46",
         "textfont": {
          "color": "#4D5663"
         },
         "type": "scatter",
         "x": [
          57.97
         ],
         "y": [
          -94.46
         ]
        },
        {
         "marker": {
          "color": "rgba(255, 255, 51, 1.0)",
          "line": {
           "width": 1.3
          },
          "opacity": 0.8,
          "size": 12,
          "symbol": "circle"
         },
         "mode": "markers",
         "name": "-93.34",
         "textfont": {
          "color": "#4D5663"
         },
         "type": "scatter",
         "x": [
          56.17
         ],
         "y": [
          -93.34
         ]
        },
        {
         "marker": {
          "color": "rgba(128, 128, 0, 1.0)",
          "line": {
           "width": 1.3
          },
          "opacity": 0.8,
          "size": 12,
          "symbol": "circle"
         },
         "mode": "markers",
         "name": "-92.17",
         "textfont": {
          "color": "#4D5663"
         },
         "type": "scatter",
         "x": [
          54.43
         ],
         "y": [
          -92.17
         ]
        },
        {
         "marker": {
          "color": "rgba(251, 128, 114, 1.0)",
          "line": {
           "width": 1.3
          },
          "opacity": 0.8,
          "size": 12,
          "symbol": "circle"
         },
         "mode": "markers",
         "name": "-90.95",
         "textfont": {
          "color": "#4D5663"
         },
         "type": "scatter",
         "x": [
          52.74
         ],
         "y": [
          -90.95
         ]
        },
        {
         "marker": {
          "color": "rgba(128, 177, 211, 1.0)",
          "line": {
           "width": 1.3
          },
          "opacity": 0.8,
          "size": 12,
          "symbol": "circle"
         },
         "mode": "markers",
         "name": "-89.68",
         "textfont": {
          "color": "#4D5663"
         },
         "type": "scatter",
         "x": [
          51.11
         ],
         "y": [
          -89.68
         ]
        },
        {
         "marker": {
          "color": "rgba(128, 177, 211, 0.9191919191919191)",
          "line": {
           "width": 1.3
          },
          "opacity": 0.8,
          "size": 12,
          "symbol": "circle"
         },
         "mode": "markers",
         "name": "-88.35",
         "textfont": {
          "color": "#4D5663"
         },
         "type": "scatter",
         "x": [
          49.53
         ],
         "y": [
          -88.35
         ]
        },
        {
         "marker": {
          "color": "rgba(255, 153, 51, 0.9191919191919191)",
          "line": {
           "width": 1.3
          },
          "opacity": 0.8,
          "size": 12,
          "symbol": "circle"
         },
         "mode": "markers",
         "name": "-86.98",
         "textfont": {
          "color": "#4D5663"
         },
         "type": "scatter",
         "x": [
          48.01
         ],
         "y": [
          -86.98
         ]
        },
        {
         "marker": {
          "color": "rgba(55, 128, 191, 0.9191919191919191)",
          "line": {
           "width": 1.3
          },
          "opacity": 0.8,
          "size": 12,
          "symbol": "circle"
         },
         "mode": "markers",
         "name": "-85.56",
         "textfont": {
          "color": "#4D5663"
         },
         "type": "scatter",
         "x": [
          46.54
         ],
         "y": [
          -85.56
         ]
        },
        {
         "marker": {
          "color": "rgba(50, 171, 96, 0.9191919191919191)",
          "line": {
           "width": 1.3
          },
          "opacity": 0.8,
          "size": 12,
          "symbol": "circle"
         },
         "mode": "markers",
         "name": "-84.1",
         "textfont": {
          "color": "#4D5663"
         },
         "type": "scatter",
         "x": [
          45.11
         ],
         "y": [
          -84.1
         ]
        },
        {
         "marker": {
          "color": "rgba(128, 0, 128, 0.9191919191919191)",
          "line": {
           "width": 1.3
          },
          "opacity": 0.8,
          "size": 12,
          "symbol": "circle"
         },
         "mode": "markers",
         "name": "-82.59",
         "textfont": {
          "color": "#4D5663"
         },
         "type": "scatter",
         "x": [
          43.74
         ],
         "y": [
          -82.59
         ]
        },
        {
         "marker": {
          "color": "rgba(219, 64, 82, 0.9191919191919191)",
          "line": {
           "width": 1.3
          },
          "opacity": 0.8,
          "size": 12,
          "symbol": "circle"
         },
         "mode": "markers",
         "name": "-81.04",
         "textfont": {
          "color": "#4D5663"
         },
         "type": "scatter",
         "x": [
          42.41
         ],
         "y": [
          -81.04
         ]
        },
        {
         "marker": {
          "color": "rgba(0, 128, 128, 0.9191919191919191)",
          "line": {
           "width": 1.3
          },
          "opacity": 0.8,
          "size": 12,
          "symbol": "circle"
         },
         "mode": "markers",
         "name": "-79.44",
         "textfont": {
          "color": "#4D5663"
         },
         "type": "scatter",
         "x": [
          41.13
         ],
         "y": [
          -79.44
         ]
        },
        {
         "marker": {
          "color": "rgba(255, 255, 51, 0.9191919191919191)",
          "line": {
           "width": 1.3
          },
          "opacity": 0.8,
          "size": 12,
          "symbol": "circle"
         },
         "mode": "markers",
         "name": "-77.8",
         "textfont": {
          "color": "#4D5663"
         },
         "type": "scatter",
         "x": [
          39.9
         ],
         "y": [
          -77.8
         ]
        },
        {
         "marker": {
          "color": "rgba(128, 128, 0, 0.9191919191919191)",
          "line": {
           "width": 1.3
          },
          "opacity": 0.8,
          "size": 12,
          "symbol": "circle"
         },
         "mode": "markers",
         "name": "-76.12",
         "textfont": {
          "color": "#4D5663"
         },
         "type": "scatter",
         "x": [
          38.72
         ],
         "y": [
          -76.12
         ]
        },
        {
         "marker": {
          "color": "rgba(251, 128, 114, 0.9191919191919191)",
          "line": {
           "width": 1.3
          },
          "opacity": 0.8,
          "size": 12,
          "symbol": "circle"
         },
         "mode": "markers",
         "name": "-74.4",
         "textfont": {
          "color": "#4D5663"
         },
         "type": "scatter",
         "x": [
          37.58
         ],
         "y": [
          -74.4
         ]
        },
        {
         "marker": {
          "color": "rgba(251, 128, 114, 0.8383838383838382)",
          "line": {
           "width": 1.3
          },
          "opacity": 0.8,
          "size": 12,
          "symbol": "circle"
         },
         "mode": "markers",
         "name": "-72.64",
         "textfont": {
          "color": "#4D5663"
         },
         "type": "scatter",
         "x": [
          36.48
         ],
         "y": [
          -72.64
         ]
        },
        {
         "marker": {
          "color": "rgba(128, 177, 211, 0.8383838383838382)",
          "line": {
           "width": 1.3
          },
          "opacity": 0.8,
          "size": 12,
          "symbol": "circle"
         },
         "mode": "markers",
         "name": "-70.84",
         "textfont": {
          "color": "#4D5663"
         },
         "type": "scatter",
         "x": [
          35.42
         ],
         "y": [
          -70.84
         ]
        },
        {
         "marker": {
          "color": "rgba(255, 153, 51, 0.8383838383838382)",
          "line": {
           "width": 1.3
          },
          "opacity": 0.8,
          "size": 12,
          "symbol": "circle"
         },
         "mode": "markers",
         "name": "-69.01",
         "textfont": {
          "color": "#4D5663"
         },
         "type": "scatter",
         "x": [
          34.41
         ],
         "y": [
          -69.01
         ]
        },
        {
         "marker": {
          "color": "rgba(55, 128, 191, 0.8383838383838382)",
          "line": {
           "width": 1.3
          },
          "opacity": 0.8,
          "size": 12,
          "symbol": "circle"
         },
         "mode": "markers",
         "name": "-67.14",
         "textfont": {
          "color": "#4D5663"
         },
         "type": "scatter",
         "x": [
          33.43
         ],
         "y": [
          -67.14
         ]
        },
        {
         "marker": {
          "color": "rgba(50, 171, 96, 0.8383838383838382)",
          "line": {
           "width": 1.3
          },
          "opacity": 0.8,
          "size": 12,
          "symbol": "circle"
         },
         "mode": "markers",
         "name": "-65.23",
         "textfont": {
          "color": "#4D5663"
         },
         "type": "scatter",
         "x": [
          32.5
         ],
         "y": [
          -65.23
         ]
        },
        {
         "marker": {
          "color": "rgba(128, 0, 128, 0.8383838383838382)",
          "line": {
           "width": 1.3
          },
          "opacity": 0.8,
          "size": 12,
          "symbol": "circle"
         },
         "mode": "markers",
         "name": "-63.3",
         "textfont": {
          "color": "#4D5663"
         },
         "type": "scatter",
         "x": [
          31.6
         ],
         "y": [
          -63.3
         ]
        },
        {
         "marker": {
          "color": "rgba(219, 64, 82, 0.8383838383838382)",
          "line": {
           "width": 1.3
          },
          "opacity": 0.8,
          "size": 12,
          "symbol": "circle"
         },
         "mode": "markers",
         "name": "-61.32",
         "textfont": {
          "color": "#4D5663"
         },
         "type": "scatter",
         "x": [
          30.75
         ],
         "y": [
          -61.32
         ]
        },
        {
         "marker": {
          "color": "rgba(0, 128, 128, 0.8383838383838382)",
          "line": {
           "width": 1.3
          },
          "opacity": 0.8,
          "size": 12,
          "symbol": "circle"
         },
         "mode": "markers",
         "name": "-59.32",
         "textfont": {
          "color": "#4D5663"
         },
         "type": "scatter",
         "x": [
          29.92
         ],
         "y": [
          -59.32
         ]
        },
        {
         "marker": {
          "color": "rgba(255, 255, 51, 0.8383838383838382)",
          "line": {
           "width": 1.3
          },
          "opacity": 0.8,
          "size": 12,
          "symbol": "circle"
         },
         "mode": "markers",
         "name": "-57.29",
         "textfont": {
          "color": "#4D5663"
         },
         "type": "scatter",
         "x": [
          29.14
         ],
         "y": [
          -57.29
         ]
        },
        {
         "marker": {
          "color": "rgba(128, 128, 0, 0.8383838383838382)",
          "line": {
           "width": 1.3
          },
          "opacity": 0.8,
          "size": 12,
          "symbol": "circle"
         },
         "mode": "markers",
         "name": "-55.23",
         "textfont": {
          "color": "#4D5663"
         },
         "type": "scatter",
         "x": [
          28.38
         ],
         "y": [
          -55.23
         ]
        },
        {
         "marker": {
          "color": "rgba(128, 128, 0, 0.7575757575757576)",
          "line": {
           "width": 1.3
          },
          "opacity": 0.8,
          "size": 12,
          "symbol": "circle"
         },
         "mode": "markers",
         "name": "-53.13",
         "textfont": {
          "color": "#4D5663"
         },
         "type": "scatter",
         "x": [
          27.66
         ],
         "y": [
          -53.13
         ]
        },
        {
         "marker": {
          "color": "rgba(251, 128, 114, 0.7575757575757576)",
          "line": {
           "width": 1.3
          },
          "opacity": 0.8,
          "size": 12,
          "symbol": "circle"
         },
         "mode": "markers",
         "name": "-51.01",
         "textfont": {
          "color": "#4D5663"
         },
         "type": "scatter",
         "x": [
          26.98
         ],
         "y": [
          -51.01
         ]
        },
        {
         "marker": {
          "color": "rgba(128, 177, 211, 0.7575757575757576)",
          "line": {
           "width": 1.3
          },
          "opacity": 0.8,
          "size": 12,
          "symbol": "circle"
         },
         "mode": "markers",
         "name": "-48.87",
         "textfont": {
          "color": "#4D5663"
         },
         "type": "scatter",
         "x": [
          26.32
         ],
         "y": [
          -48.87
         ]
        },
        {
         "marker": {
          "color": "rgba(255, 153, 51, 0.7575757575757576)",
          "line": {
           "width": 1.3
          },
          "opacity": 0.8,
          "size": 12,
          "symbol": "circle"
         },
         "mode": "markers",
         "name": "-46.7",
         "textfont": {
          "color": "#4D5663"
         },
         "type": "scatter",
         "x": [
          25.7
         ],
         "y": [
          -46.7
         ]
        },
        {
         "marker": {
          "color": "rgba(55, 128, 191, 0.7575757575757576)",
          "line": {
           "width": 1.3
          },
          "opacity": 0.8,
          "size": 12,
          "symbol": "circle"
         },
         "mode": "markers",
         "name": "-44.5",
         "textfont": {
          "color": "#4D5663"
         },
         "type": "scatter",
         "x": [
          25.1
         ],
         "y": [
          -44.5
         ]
        },
        {
         "marker": {
          "color": "rgba(50, 171, 96, 0.7575757575757576)",
          "line": {
           "width": 1.3
          },
          "opacity": 0.8,
          "size": 12,
          "symbol": "circle"
         },
         "mode": "markers",
         "name": "-42.28",
         "textfont": {
          "color": "#4D5663"
         },
         "type": "scatter",
         "x": [
          24.53
         ],
         "y": [
          -42.28
         ]
        },
        {
         "marker": {
          "color": "rgba(128, 0, 128, 0.7575757575757576)",
          "line": {
           "width": 1.3
          },
          "opacity": 0.8,
          "size": 12,
          "symbol": "circle"
         },
         "mode": "markers",
         "name": "-40.04",
         "textfont": {
          "color": "#4D5663"
         },
         "type": "scatter",
         "x": [
          23.99
         ],
         "y": [
          -40.04
         ]
        },
        {
         "marker": {
          "color": "rgba(219, 64, 82, 0.7575757575757576)",
          "line": {
           "width": 1.3
          },
          "opacity": 0.8,
          "size": 12,
          "symbol": "circle"
         },
         "mode": "markers",
         "name": "-37.78",
         "textfont": {
          "color": "#4D5663"
         },
         "type": "scatter",
         "x": [
          23.48
         ],
         "y": [
          -37.78
         ]
        },
        {
         "marker": {
          "color": "rgba(0, 128, 128, 0.7575757575757576)",
          "line": {
           "width": 1.3
          },
          "opacity": 0.8,
          "size": 12,
          "symbol": "circle"
         },
         "mode": "markers",
         "name": "-35.5",
         "textfont": {
          "color": "#4D5663"
         },
         "type": "scatter",
         "x": [
          22.99
         ],
         "y": [
          -35.5
         ]
        },
        {
         "marker": {
          "color": "rgba(255, 255, 51, 0.7575757575757576)",
          "line": {
           "width": 1.3
          },
          "opacity": 0.8,
          "size": 12,
          "symbol": "circle"
         },
         "mode": "markers",
         "name": "-33.2",
         "textfont": {
          "color": "#4D5663"
         },
         "type": "scatter",
         "x": [
          22.53
         ],
         "y": [
          -33.2
         ]
        },
        {
         "marker": {
          "color": "rgba(255, 255, 51, 0.6767676767676767)",
          "line": {
           "width": 1.3
          },
          "opacity": 0.8,
          "size": 12,
          "symbol": "circle"
         },
         "mode": "markers",
         "name": "-30.88",
         "textfont": {
          "color": "#4D5663"
         },
         "type": "scatter",
         "x": [
          22.09
         ],
         "y": [
          -30.88
         ]
        },
        {
         "marker": {
          "color": "rgba(128, 128, 0, 0.6767676767676767)",
          "line": {
           "width": 1.3
          },
          "opacity": 0.8,
          "size": 12,
          "symbol": "circle"
         },
         "mode": "markers",
         "name": "-28.55",
         "textfont": {
          "color": "#4D5663"
         },
         "type": "scatter",
         "x": [
          21.67
         ],
         "y": [
          -28.55
         ]
        },
        {
         "marker": {
          "color": "rgba(251, 128, 114, 0.6767676767676767)",
          "line": {
           "width": 1.3
          },
          "opacity": 0.8,
          "size": 12,
          "symbol": "circle"
         },
         "mode": "markers",
         "name": "-26.19",
         "textfont": {
          "color": "#4D5663"
         },
         "type": "scatter",
         "x": [
          21.27
         ],
         "y": [
          -26.19
         ]
        },
        {
         "marker": {
          "color": "rgba(128, 177, 211, 0.6767676767676767)",
          "line": {
           "width": 1.3
          },
          "opacity": 0.8,
          "size": 12,
          "symbol": "circle"
         },
         "mode": "markers",
         "name": "-23.83",
         "textfont": {
          "color": "#4D5663"
         },
         "type": "scatter",
         "x": [
          20.89
         ],
         "y": [
          -23.83
         ]
        },
        {
         "marker": {
          "color": "rgba(255, 153, 51, 0.6767676767676767)",
          "line": {
           "width": 1.3
          },
          "opacity": 0.8,
          "size": 12,
          "symbol": "circle"
         },
         "mode": "markers",
         "name": "-21.45",
         "textfont": {
          "color": "#4D5663"
         },
         "type": "scatter",
         "x": [
          20.54
         ],
         "y": [
          -21.45
         ]
        },
        {
         "marker": {
          "color": "rgba(55, 128, 191, 0.6767676767676767)",
          "line": {
           "width": 1.3
          },
          "opacity": 0.8,
          "size": 12,
          "symbol": "circle"
         },
         "mode": "markers",
         "name": "-19.05",
         "textfont": {
          "color": "#4D5663"
         },
         "type": "scatter",
         "x": [
          20.2
         ],
         "y": [
          -19.05
         ]
        },
        {
         "marker": {
          "color": "rgba(50, 171, 96, 0.6767676767676767)",
          "line": {
           "width": 1.3
          },
          "opacity": 0.8,
          "size": 12,
          "symbol": "circle"
         },
         "mode": "markers",
         "name": "-16.65",
         "textfont": {
          "color": "#4D5663"
         },
         "type": "scatter",
         "x": [
          19.87
         ],
         "y": [
          -16.65
         ]
        },
        {
         "marker": {
          "color": "rgba(128, 0, 128, 0.6767676767676767)",
          "line": {
           "width": 1.3
          },
          "opacity": 0.8,
          "size": 12,
          "symbol": "circle"
         },
         "mode": "markers",
         "name": "-14.23",
         "textfont": {
          "color": "#4D5663"
         },
         "type": "scatter",
         "x": [
          19.57
         ],
         "y": [
          -14.23
         ]
        },
        {
         "marker": {
          "color": "rgba(219, 64, 82, 0.6767676767676767)",
          "line": {
           "width": 1.3
          },
          "opacity": 0.8,
          "size": 12,
          "symbol": "circle"
         },
         "mode": "markers",
         "name": "-11.81",
         "textfont": {
          "color": "#4D5663"
         },
         "type": "scatter",
         "x": [
          19.28
         ],
         "y": [
          -11.81
         ]
        },
        {
         "marker": {
          "color": "rgba(0, 128, 128, 0.6767676767676767)",
          "line": {
           "width": 1.3
          },
          "opacity": 0.8,
          "size": 12,
          "symbol": "circle"
         },
         "mode": "markers",
         "name": "-9.37",
         "textfont": {
          "color": "#4D5663"
         },
         "type": "scatter",
         "x": [
          19
         ],
         "y": [
          -9.37
         ]
        },
        {
         "marker": {
          "color": "rgba(0, 128, 128, 0.5959595959595958)",
          "line": {
           "width": 1.3
          },
          "opacity": 0.8,
          "size": 12,
          "symbol": "circle"
         },
         "mode": "markers",
         "name": "-6.93",
         "textfont": {
          "color": "#4D5663"
         },
         "type": "scatter",
         "x": [
          18.74
         ],
         "y": [
          -6.93
         ]
        },
        {
         "marker": {
          "color": "rgba(255, 255, 51, 0.5959595959595958)",
          "line": {
           "width": 1.3
          },
          "opacity": 0.8,
          "size": 12,
          "symbol": "circle"
         },
         "mode": "markers",
         "name": "-4.49",
         "textfont": {
          "color": "#4D5663"
         },
         "type": "scatter",
         "x": [
          18.49
         ],
         "y": [
          -4.49
         ]
        },
        {
         "marker": {
          "color": "rgba(128, 128, 0, 0.5959595959595958)",
          "line": {
           "width": 1.3
          },
          "opacity": 0.8,
          "size": 12,
          "symbol": "circle"
         },
         "mode": "markers",
         "name": "-2.03",
         "textfont": {
          "color": "#4D5663"
         },
         "type": "scatter",
         "x": [
          18.24
         ],
         "y": [
          -2.03
         ]
        },
        {
         "marker": {
          "color": "rgba(251, 128, 114, 0.5959595959595958)",
          "line": {
           "width": 1.3
          },
          "opacity": 0.8,
          "size": 12,
          "symbol": "circle"
         },
         "mode": "markers",
         "name": "0.42",
         "textfont": {
          "color": "#4D5663"
         },
         "type": "scatter",
         "x": [
          18.01
         ],
         "y": [
          0.42
         ]
        },
        {
         "marker": {
          "color": "rgba(128, 177, 211, 0.5959595959595958)",
          "line": {
           "width": 1.3
          },
          "opacity": 0.8,
          "size": 12,
          "symbol": "circle"
         },
         "mode": "markers",
         "name": "2.88",
         "textfont": {
          "color": "#4D5663"
         },
         "type": "scatter",
         "x": [
          17.79
         ],
         "y": [
          2.88
         ]
        },
        {
         "marker": {
          "color": "rgba(255, 153, 51, 0.5959595959595958)",
          "line": {
           "width": 1.3
          },
          "opacity": 0.8,
          "size": 12,
          "symbol": "circle"
         },
         "mode": "markers",
         "name": "5.35",
         "textfont": {
          "color": "#4D5663"
         },
         "type": "scatter",
         "x": [
          17.58
         ],
         "y": [
          5.35
         ]
        },
        {
         "marker": {
          "color": "rgba(55, 128, 191, 0.5959595959595958)",
          "line": {
           "width": 1.3
          },
          "opacity": 0.8,
          "size": 12,
          "symbol": "circle"
         },
         "mode": "markers",
         "name": "7.81",
         "textfont": {
          "color": "#4D5663"
         },
         "type": "scatter",
         "x": [
          17.38
         ],
         "y": [
          7.81
         ]
        },
        {
         "marker": {
          "color": "rgba(50, 171, 96, 0.5959595959595958)",
          "line": {
           "width": 1.3
          },
          "opacity": 0.8,
          "size": 12,
          "symbol": "circle"
         },
         "mode": "markers",
         "name": "10.28",
         "textfont": {
          "color": "#4D5663"
         },
         "type": "scatter",
         "x": [
          17.18
         ],
         "y": [
          10.28
         ]
        },
        {
         "marker": {
          "color": "rgba(128, 0, 128, 0.5959595959595958)",
          "line": {
           "width": 1.3
          },
          "opacity": 0.8,
          "size": 12,
          "symbol": "circle"
         },
         "mode": "markers",
         "name": "12.74",
         "textfont": {
          "color": "#4D5663"
         },
         "type": "scatter",
         "x": [
          16.98
         ],
         "y": [
          12.74
         ]
        },
        {
         "marker": {
          "color": "rgba(219, 64, 82, 0.5959595959595958)",
          "line": {
           "width": 1.3
          },
          "opacity": 0.8,
          "size": 12,
          "symbol": "circle"
         },
         "mode": "markers",
         "name": "15.2",
         "textfont": {
          "color": "#4D5663"
         },
         "type": "scatter",
         "x": [
          16.79
         ],
         "y": [
          15.2
         ]
        },
        {
         "marker": {
          "color": "rgba(219, 64, 82, 0.5151515151515149)",
          "line": {
           "width": 1.3
          },
          "opacity": 0.8,
          "size": 12,
          "symbol": "circle"
         },
         "mode": "markers",
         "name": "17.66",
         "textfont": {
          "color": "#4D5663"
         },
         "type": "scatter",
         "x": [
          16.6
         ],
         "y": [
          17.66
         ]
        },
        {
         "marker": {
          "color": "rgba(0, 128, 128, 0.5151515151515149)",
          "line": {
           "width": 1.3
          },
          "opacity": 0.8,
          "size": 12,
          "symbol": "circle"
         },
         "mode": "markers",
         "name": "20.11",
         "textfont": {
          "color": "#4D5663"
         },
         "type": "scatter",
         "x": [
          16.42
         ],
         "y": [
          20.11
         ]
        },
        {
         "marker": {
          "color": "rgba(255, 255, 51, 0.5151515151515149)",
          "line": {
           "width": 1.3
          },
          "opacity": 0.8,
          "size": 12,
          "symbol": "circle"
         },
         "mode": "markers",
         "name": "22.56",
         "textfont": {
          "color": "#4D5663"
         },
         "type": "scatter",
         "x": [
          16.24
         ],
         "y": [
          22.56
         ]
        },
        {
         "marker": {
          "color": "rgba(128, 128, 0, 0.5151515151515149)",
          "line": {
           "width": 1.3
          },
          "opacity": 0.8,
          "size": 12,
          "symbol": "circle"
         },
         "mode": "markers",
         "name": "25.0",
         "textfont": {
          "color": "#4D5663"
         },
         "type": "scatter",
         "x": [
          16.05
         ],
         "y": [
          25
         ]
        },
        {
         "marker": {
          "color": "rgba(251, 128, 114, 0.5151515151515149)",
          "line": {
           "width": 1.3
          },
          "opacity": 0.8,
          "size": 12,
          "symbol": "circle"
         },
         "mode": "markers",
         "name": "27.44",
         "textfont": {
          "color": "#4D5663"
         },
         "type": "scatter",
         "x": [
          15.87
         ],
         "y": [
          27.44
         ]
        },
        {
         "marker": {
          "color": "rgba(128, 177, 211, 0.5151515151515149)",
          "line": {
           "width": 1.3
          },
          "opacity": 0.8,
          "size": 12,
          "symbol": "circle"
         },
         "mode": "markers",
         "name": "29.87",
         "textfont": {
          "color": "#4D5663"
         },
         "type": "scatter",
         "x": [
          15.68
         ],
         "y": [
          29.87
         ]
        },
        {
         "marker": {
          "color": "rgba(255, 153, 51, 0.5151515151515149)",
          "line": {
           "width": 1.3
          },
          "opacity": 0.8,
          "size": 12,
          "symbol": "circle"
         },
         "mode": "markers",
         "name": "32.29",
         "textfont": {
          "color": "#4D5663"
         },
         "type": "scatter",
         "x": [
          15.49
         ],
         "y": [
          32.29
         ]
        },
        {
         "marker": {
          "color": "rgba(55, 128, 191, 0.5151515151515149)",
          "line": {
           "width": 1.3
          },
          "opacity": 0.8,
          "size": 12,
          "symbol": "circle"
         },
         "mode": "markers",
         "name": "34.69",
         "textfont": {
          "color": "#4D5663"
         },
         "type": "scatter",
         "x": [
          15.3
         ],
         "y": [
          34.69
         ]
        },
        {
         "marker": {
          "color": "rgba(50, 171, 96, 0.5151515151515149)",
          "line": {
           "width": 1.3
          },
          "opacity": 0.8,
          "size": 12,
          "symbol": "circle"
         },
         "mode": "markers",
         "name": "37.09",
         "textfont": {
          "color": "#4D5663"
         },
         "type": "scatter",
         "x": [
          15.1
         ],
         "y": [
          37.09
         ]
        },
        {
         "marker": {
          "color": "rgba(128, 0, 128, 0.5151515151515149)",
          "line": {
           "width": 1.3
          },
          "opacity": 0.8,
          "size": 12,
          "symbol": "circle"
         },
         "mode": "markers",
         "name": "39.48",
         "textfont": {
          "color": "#4D5663"
         },
         "type": "scatter",
         "x": [
          14.9
         ],
         "y": [
          39.48
         ]
        },
        {
         "marker": {
          "color": "rgba(128, 0, 128, 0.4343434343434343)",
          "line": {
           "width": 1.3
          },
          "opacity": 0.8,
          "size": 12,
          "symbol": "circle"
         },
         "mode": "markers",
         "name": "41.85",
         "textfont": {
          "color": "#4D5663"
         },
         "type": "scatter",
         "x": [
          14.68
         ],
         "y": [
          41.85
         ]
        },
        {
         "marker": {
          "color": "rgba(219, 64, 82, 0.4343434343434343)",
          "line": {
           "width": 1.3
          },
          "opacity": 0.8,
          "size": 12,
          "symbol": "circle"
         },
         "mode": "markers",
         "name": "44.2",
         "textfont": {
          "color": "#4D5663"
         },
         "type": "scatter",
         "x": [
          14.47
         ],
         "y": [
          44.2
         ]
        },
        {
         "marker": {
          "color": "rgba(0, 128, 128, 0.4343434343434343)",
          "line": {
           "width": 1.3
          },
          "opacity": 0.8,
          "size": 12,
          "symbol": "circle"
         },
         "mode": "markers",
         "name": "46.54",
         "textfont": {
          "color": "#4D5663"
         },
         "type": "scatter",
         "x": [
          14.24
         ],
         "y": [
          46.54
         ]
        },
        {
         "marker": {
          "color": "rgba(255, 255, 51, 0.4343434343434343)",
          "line": {
           "width": 1.3
          },
          "opacity": 0.8,
          "size": 12,
          "symbol": "circle"
         },
         "mode": "markers",
         "name": "48.87",
         "textfont": {
          "color": "#4D5663"
         },
         "type": "scatter",
         "x": [
          14
         ],
         "y": [
          48.87
         ]
        },
        {
         "marker": {
          "color": "rgba(128, 128, 0, 0.4343434343434343)",
          "line": {
           "width": 1.3
          },
          "opacity": 0.8,
          "size": 12,
          "symbol": "circle"
         },
         "mode": "markers",
         "name": "51.17",
         "textfont": {
          "color": "#4D5663"
         },
         "type": "scatter",
         "x": [
          13.75
         ],
         "y": [
          51.17
         ]
        },
        {
         "marker": {
          "color": "rgba(251, 128, 114, 0.4343434343434343)",
          "line": {
           "width": 1.3
          },
          "opacity": 0.8,
          "size": 12,
          "symbol": "circle"
         },
         "mode": "markers",
         "name": "53.46",
         "textfont": {
          "color": "#4D5663"
         },
         "type": "scatter",
         "x": [
          13.49
         ],
         "y": [
          53.46
         ]
        },
        {
         "marker": {
          "color": "rgba(128, 177, 211, 0.4343434343434343)",
          "line": {
           "width": 1.3
          },
          "opacity": 0.8,
          "size": 12,
          "symbol": "circle"
         },
         "mode": "markers",
         "name": "55.73",
         "textfont": {
          "color": "#4D5663"
         },
         "type": "scatter",
         "x": [
          13.21
         ],
         "y": [
          55.73
         ]
        },
        {
         "marker": {
          "color": "rgba(255, 153, 51, 0.4343434343434343)",
          "line": {
           "width": 1.3
          },
          "opacity": 0.8,
          "size": 12,
          "symbol": "circle"
         },
         "mode": "markers",
         "name": "57.97",
         "textfont": {
          "color": "#4D5663"
         },
         "type": "scatter",
         "x": [
          12.93
         ],
         "y": [
          57.97
         ]
        },
        {
         "marker": {
          "color": "rgba(55, 128, 191, 0.4343434343434343)",
          "line": {
           "width": 1.3
          },
          "opacity": 0.8,
          "size": 12,
          "symbol": "circle"
         },
         "mode": "markers",
         "name": "60.2",
         "textfont": {
          "color": "#4D5663"
         },
         "type": "scatter",
         "x": [
          12.62
         ],
         "y": [
          60.2
         ]
        },
        {
         "marker": {
          "color": "rgba(50, 171, 96, 0.4343434343434343)",
          "line": {
           "width": 1.3
          },
          "opacity": 0.8,
          "size": 12,
          "symbol": "circle"
         },
         "mode": "markers",
         "name": "62.4",
         "textfont": {
          "color": "#4D5663"
         },
         "type": "scatter",
         "x": [
          12.3
         ],
         "y": [
          62.4
         ]
        },
        {
         "marker": {
          "color": "rgba(50, 171, 96, 0.3535353535353534)",
          "line": {
           "width": 1.3
          },
          "opacity": 0.8,
          "size": 12,
          "symbol": "circle"
         },
         "mode": "markers",
         "name": "64.58",
         "textfont": {
          "color": "#4D5663"
         },
         "type": "scatter",
         "x": [
          11.97
         ],
         "y": [
          64.58
         ]
        },
        {
         "marker": {
          "color": "rgba(128, 0, 128, 0.3535353535353534)",
          "line": {
           "width": 1.3
          },
          "opacity": 0.8,
          "size": 12,
          "symbol": "circle"
         },
         "mode": "markers",
         "name": "66.73",
         "textfont": {
          "color": "#4D5663"
         },
         "type": "scatter",
         "x": [
          11.61
         ],
         "y": [
          66.73
         ]
        },
        {
         "marker": {
          "color": "rgba(219, 64, 82, 0.3535353535353534)",
          "line": {
           "width": 1.3
          },
          "opacity": 0.8,
          "size": 12,
          "symbol": "circle"
         },
         "mode": "markers",
         "name": "68.86",
         "textfont": {
          "color": "#4D5663"
         },
         "type": "scatter",
         "x": [
          11.24
         ],
         "y": [
          68.86
         ]
        },
        {
         "marker": {
          "color": "rgba(0, 128, 128, 0.3535353535353534)",
          "line": {
           "width": 1.3
          },
          "opacity": 0.8,
          "size": 12,
          "symbol": "circle"
         },
         "mode": "markers",
         "name": "70.96",
         "textfont": {
          "color": "#4D5663"
         },
         "type": "scatter",
         "x": [
          10.85
         ],
         "y": [
          70.96
         ]
        },
        {
         "marker": {
          "color": "rgba(255, 255, 51, 0.3535353535353534)",
          "line": {
           "width": 1.3
          },
          "opacity": 0.8,
          "size": 12,
          "symbol": "circle"
         },
         "mode": "markers",
         "name": "73.03",
         "textfont": {
          "color": "#4D5663"
         },
         "type": "scatter",
         "x": [
          10.43
         ],
         "y": [
          73.03
         ]
        },
        {
         "marker": {
          "color": "rgba(128, 128, 0, 0.3535353535353534)",
          "line": {
           "width": 1.3
          },
          "opacity": 0.8,
          "size": 12,
          "symbol": "circle"
         },
         "mode": "markers",
         "name": "75.07",
         "textfont": {
          "color": "#4D5663"
         },
         "type": "scatter",
         "x": [
          10
         ],
         "y": [
          75.07
         ]
        },
        {
         "marker": {
          "color": "rgba(251, 128, 114, 0.3535353535353534)",
          "line": {
           "width": 1.3
          },
          "opacity": 0.8,
          "size": 12,
          "symbol": "circle"
         },
         "mode": "markers",
         "name": "77.08",
         "textfont": {
          "color": "#4D5663"
         },
         "type": "scatter",
         "x": [
          9.54
         ],
         "y": [
          77.08
         ]
        },
        {
         "marker": {
          "color": "rgba(128, 177, 211, 0.3535353535353534)",
          "line": {
           "width": 1.3
          },
          "opacity": 0.8,
          "size": 12,
          "symbol": "circle"
         },
         "mode": "markers",
         "name": "79.06",
         "textfont": {
          "color": "#4D5663"
         },
         "type": "scatter",
         "x": [
          9.05
         ],
         "y": [
          79.06
         ]
        },
        {
         "marker": {
          "color": "rgba(255, 153, 51, 0.3535353535353534)",
          "line": {
           "width": 1.3
          },
          "opacity": 0.8,
          "size": 12,
          "symbol": "circle"
         },
         "mode": "markers",
         "name": "81.01",
         "textfont": {
          "color": "#4D5663"
         },
         "type": "scatter",
         "x": [
          8.54
         ],
         "y": [
          81.01
         ]
        },
        {
         "marker": {
          "color": "rgba(55, 128, 191, 0.3535353535353534)",
          "line": {
           "width": 1.3
          },
          "opacity": 0.8,
          "size": 12,
          "symbol": "circle"
         },
         "mode": "markers",
         "name": "82.93",
         "textfont": {
          "color": "#4D5663"
         },
         "type": "scatter",
         "x": [
          8.01
         ],
         "y": [
          82.93
         ]
        },
        {
         "marker": {
          "color": "rgba(55, 128, 191, 0.27272727272727254)",
          "line": {
           "width": 1.3
          },
          "opacity": 0.8,
          "size": 12,
          "symbol": "circle"
         },
         "mode": "markers",
         "name": "84.81",
         "textfont": {
          "color": "#4D5663"
         },
         "type": "scatter",
         "x": [
          7.45
         ],
         "y": [
          84.81
         ]
        },
        {
         "marker": {
          "color": "rgba(50, 171, 96, 0.27272727272727254)",
          "line": {
           "width": 1.3
          },
          "opacity": 0.8,
          "size": 12,
          "symbol": "circle"
         },
         "mode": "markers",
         "name": "86.65",
         "textfont": {
          "color": "#4D5663"
         },
         "type": "scatter",
         "x": [
          6.86
         ],
         "y": [
          86.65
         ]
        },
        {
         "marker": {
          "color": "rgba(128, 0, 128, 0.27272727272727254)",
          "line": {
           "width": 1.3
          },
          "opacity": 0.8,
          "size": 12,
          "symbol": "circle"
         },
         "mode": "markers",
         "name": "88.46",
         "textfont": {
          "color": "#4D5663"
         },
         "type": "scatter",
         "x": [
          6.24
         ],
         "y": [
          88.46
         ]
        },
        {
         "marker": {
          "color": "rgba(219, 64, 82, 0.27272727272727254)",
          "line": {
           "width": 1.3
          },
          "opacity": 0.8,
          "size": 12,
          "symbol": "circle"
         },
         "mode": "markers",
         "name": "90.23",
         "textfont": {
          "color": "#4D5663"
         },
         "type": "scatter",
         "x": [
          5.59
         ],
         "y": [
          90.23
         ]
        },
        {
         "marker": {
          "color": "rgba(0, 128, 128, 0.27272727272727254)",
          "line": {
           "width": 1.3
          },
          "opacity": 0.8,
          "size": 12,
          "symbol": "circle"
         },
         "mode": "markers",
         "name": "91.96",
         "textfont": {
          "color": "#4D5663"
         },
         "type": "scatter",
         "x": [
          4.91
         ],
         "y": [
          91.96
         ]
        },
        {
         "marker": {
          "color": "rgba(255, 255, 51, 0.27272727272727254)",
          "line": {
           "width": 1.3
          },
          "opacity": 0.8,
          "size": 12,
          "symbol": "circle"
         },
         "mode": "markers",
         "name": "93.65",
         "textfont": {
          "color": "#4D5663"
         },
         "type": "scatter",
         "x": [
          4.19
         ],
         "y": [
          93.65
         ]
        },
        {
         "marker": {
          "color": "rgba(128, 128, 0, 0.27272727272727254)",
          "line": {
           "width": 1.3
          },
          "opacity": 0.8,
          "size": 12,
          "symbol": "circle"
         },
         "mode": "markers",
         "name": "95.3",
         "textfont": {
          "color": "#4D5663"
         },
         "type": "scatter",
         "x": [
          3.45
         ],
         "y": [
          95.3
         ]
        },
        {
         "marker": {
          "color": "rgba(251, 128, 114, 0.27272727272727254)",
          "line": {
           "width": 1.3
          },
          "opacity": 0.8,
          "size": 12,
          "symbol": "circle"
         },
         "mode": "markers",
         "name": "96.91",
         "textfont": {
          "color": "#4D5663"
         },
         "type": "scatter",
         "x": [
          2.67
         ],
         "y": [
          96.91
         ]
        },
        {
         "marker": {
          "color": "rgba(128, 177, 211, 0.27272727272727254)",
          "line": {
           "width": 1.3
          },
          "opacity": 0.8,
          "size": 12,
          "symbol": "circle"
         },
         "mode": "markers",
         "name": "98.48",
         "textfont": {
          "color": "#4D5663"
         },
         "type": "scatter",
         "x": [
          1.85
         ],
         "y": [
          98.48
         ]
        }
       ],
       "layout": {
        "legend": {
         "bgcolor": "#F5F6F9",
         "font": {
          "color": "#4D5663"
         }
        },
        "paper_bgcolor": "#F5F6F9",
        "plot_bgcolor": "#F5F6F9",
        "template": {
         "data": {
          "bar": [
           {
            "error_x": {
             "color": "#2a3f5f"
            },
            "error_y": {
             "color": "#2a3f5f"
            },
            "marker": {
             "line": {
              "color": "#E5ECF6",
              "width": 0.5
             }
            },
            "type": "bar"
           }
          ],
          "barpolar": [
           {
            "marker": {
             "line": {
              "color": "#E5ECF6",
              "width": 0.5
             }
            },
            "type": "barpolar"
           }
          ],
          "carpet": [
           {
            "aaxis": {
             "endlinecolor": "#2a3f5f",
             "gridcolor": "white",
             "linecolor": "white",
             "minorgridcolor": "white",
             "startlinecolor": "#2a3f5f"
            },
            "baxis": {
             "endlinecolor": "#2a3f5f",
             "gridcolor": "white",
             "linecolor": "white",
             "minorgridcolor": "white",
             "startlinecolor": "#2a3f5f"
            },
            "type": "carpet"
           }
          ],
          "choropleth": [
           {
            "colorbar": {
             "outlinewidth": 0,
             "ticks": ""
            },
            "type": "choropleth"
           }
          ],
          "contour": [
           {
            "colorbar": {
             "outlinewidth": 0,
             "ticks": ""
            },
            "colorscale": [
             [
              0,
              "#0d0887"
             ],
             [
              0.1111111111111111,
              "#46039f"
             ],
             [
              0.2222222222222222,
              "#7201a8"
             ],
             [
              0.3333333333333333,
              "#9c179e"
             ],
             [
              0.4444444444444444,
              "#bd3786"
             ],
             [
              0.5555555555555556,
              "#d8576b"
             ],
             [
              0.6666666666666666,
              "#ed7953"
             ],
             [
              0.7777777777777778,
              "#fb9f3a"
             ],
             [
              0.8888888888888888,
              "#fdca26"
             ],
             [
              1,
              "#f0f921"
             ]
            ],
            "type": "contour"
           }
          ],
          "contourcarpet": [
           {
            "colorbar": {
             "outlinewidth": 0,
             "ticks": ""
            },
            "type": "contourcarpet"
           }
          ],
          "heatmap": [
           {
            "colorbar": {
             "outlinewidth": 0,
             "ticks": ""
            },
            "colorscale": [
             [
              0,
              "#0d0887"
             ],
             [
              0.1111111111111111,
              "#46039f"
             ],
             [
              0.2222222222222222,
              "#7201a8"
             ],
             [
              0.3333333333333333,
              "#9c179e"
             ],
             [
              0.4444444444444444,
              "#bd3786"
             ],
             [
              0.5555555555555556,
              "#d8576b"
             ],
             [
              0.6666666666666666,
              "#ed7953"
             ],
             [
              0.7777777777777778,
              "#fb9f3a"
             ],
             [
              0.8888888888888888,
              "#fdca26"
             ],
             [
              1,
              "#f0f921"
             ]
            ],
            "type": "heatmap"
           }
          ],
          "heatmapgl": [
           {
            "colorbar": {
             "outlinewidth": 0,
             "ticks": ""
            },
            "colorscale": [
             [
              0,
              "#0d0887"
             ],
             [
              0.1111111111111111,
              "#46039f"
             ],
             [
              0.2222222222222222,
              "#7201a8"
             ],
             [
              0.3333333333333333,
              "#9c179e"
             ],
             [
              0.4444444444444444,
              "#bd3786"
             ],
             [
              0.5555555555555556,
              "#d8576b"
             ],
             [
              0.6666666666666666,
              "#ed7953"
             ],
             [
              0.7777777777777778,
              "#fb9f3a"
             ],
             [
              0.8888888888888888,
              "#fdca26"
             ],
             [
              1,
              "#f0f921"
             ]
            ],
            "type": "heatmapgl"
           }
          ],
          "histogram": [
           {
            "marker": {
             "colorbar": {
              "outlinewidth": 0,
              "ticks": ""
             }
            },
            "type": "histogram"
           }
          ],
          "histogram2d": [
           {
            "colorbar": {
             "outlinewidth": 0,
             "ticks": ""
            },
            "colorscale": [
             [
              0,
              "#0d0887"
             ],
             [
              0.1111111111111111,
              "#46039f"
             ],
             [
              0.2222222222222222,
              "#7201a8"
             ],
             [
              0.3333333333333333,
              "#9c179e"
             ],
             [
              0.4444444444444444,
              "#bd3786"
             ],
             [
              0.5555555555555556,
              "#d8576b"
             ],
             [
              0.6666666666666666,
              "#ed7953"
             ],
             [
              0.7777777777777778,
              "#fb9f3a"
             ],
             [
              0.8888888888888888,
              "#fdca26"
             ],
             [
              1,
              "#f0f921"
             ]
            ],
            "type": "histogram2d"
           }
          ],
          "histogram2dcontour": [
           {
            "colorbar": {
             "outlinewidth": 0,
             "ticks": ""
            },
            "colorscale": [
             [
              0,
              "#0d0887"
             ],
             [
              0.1111111111111111,
              "#46039f"
             ],
             [
              0.2222222222222222,
              "#7201a8"
             ],
             [
              0.3333333333333333,
              "#9c179e"
             ],
             [
              0.4444444444444444,
              "#bd3786"
             ],
             [
              0.5555555555555556,
              "#d8576b"
             ],
             [
              0.6666666666666666,
              "#ed7953"
             ],
             [
              0.7777777777777778,
              "#fb9f3a"
             ],
             [
              0.8888888888888888,
              "#fdca26"
             ],
             [
              1,
              "#f0f921"
             ]
            ],
            "type": "histogram2dcontour"
           }
          ],
          "mesh3d": [
           {
            "colorbar": {
             "outlinewidth": 0,
             "ticks": ""
            },
            "type": "mesh3d"
           }
          ],
          "parcoords": [
           {
            "line": {
             "colorbar": {
              "outlinewidth": 0,
              "ticks": ""
             }
            },
            "type": "parcoords"
           }
          ],
          "pie": [
           {
            "automargin": true,
            "type": "pie"
           }
          ],
          "scatter": [
           {
            "marker": {
             "colorbar": {
              "outlinewidth": 0,
              "ticks": ""
             }
            },
            "type": "scatter"
           }
          ],
          "scatter3d": [
           {
            "line": {
             "colorbar": {
              "outlinewidth": 0,
              "ticks": ""
             }
            },
            "marker": {
             "colorbar": {
              "outlinewidth": 0,
              "ticks": ""
             }
            },
            "type": "scatter3d"
           }
          ],
          "scattercarpet": [
           {
            "marker": {
             "colorbar": {
              "outlinewidth": 0,
              "ticks": ""
             }
            },
            "type": "scattercarpet"
           }
          ],
          "scattergeo": [
           {
            "marker": {
             "colorbar": {
              "outlinewidth": 0,
              "ticks": ""
             }
            },
            "type": "scattergeo"
           }
          ],
          "scattergl": [
           {
            "marker": {
             "colorbar": {
              "outlinewidth": 0,
              "ticks": ""
             }
            },
            "type": "scattergl"
           }
          ],
          "scattermapbox": [
           {
            "marker": {
             "colorbar": {
              "outlinewidth": 0,
              "ticks": ""
             }
            },
            "type": "scattermapbox"
           }
          ],
          "scatterpolar": [
           {
            "marker": {
             "colorbar": {
              "outlinewidth": 0,
              "ticks": ""
             }
            },
            "type": "scatterpolar"
           }
          ],
          "scatterpolargl": [
           {
            "marker": {
             "colorbar": {
              "outlinewidth": 0,
              "ticks": ""
             }
            },
            "type": "scatterpolargl"
           }
          ],
          "scatterternary": [
           {
            "marker": {
             "colorbar": {
              "outlinewidth": 0,
              "ticks": ""
             }
            },
            "type": "scatterternary"
           }
          ],
          "surface": [
           {
            "colorbar": {
             "outlinewidth": 0,
             "ticks": ""
            },
            "colorscale": [
             [
              0,
              "#0d0887"
             ],
             [
              0.1111111111111111,
              "#46039f"
             ],
             [
              0.2222222222222222,
              "#7201a8"
             ],
             [
              0.3333333333333333,
              "#9c179e"
             ],
             [
              0.4444444444444444,
              "#bd3786"
             ],
             [
              0.5555555555555556,
              "#d8576b"
             ],
             [
              0.6666666666666666,
              "#ed7953"
             ],
             [
              0.7777777777777778,
              "#fb9f3a"
             ],
             [
              0.8888888888888888,
              "#fdca26"
             ],
             [
              1,
              "#f0f921"
             ]
            ],
            "type": "surface"
           }
          ],
          "table": [
           {
            "cells": {
             "fill": {
              "color": "#EBF0F8"
             },
             "line": {
              "color": "white"
             }
            },
            "header": {
             "fill": {
              "color": "#C8D4E3"
             },
             "line": {
              "color": "white"
             }
            },
            "type": "table"
           }
          ]
         },
         "layout": {
          "annotationdefaults": {
           "arrowcolor": "#2a3f5f",
           "arrowhead": 0,
           "arrowwidth": 1
          },
          "autotypenumbers": "strict",
          "coloraxis": {
           "colorbar": {
            "outlinewidth": 0,
            "ticks": ""
           }
          },
          "colorscale": {
           "diverging": [
            [
             0,
             "#8e0152"
            ],
            [
             0.1,
             "#c51b7d"
            ],
            [
             0.2,
             "#de77ae"
            ],
            [
             0.3,
             "#f1b6da"
            ],
            [
             0.4,
             "#fde0ef"
            ],
            [
             0.5,
             "#f7f7f7"
            ],
            [
             0.6,
             "#e6f5d0"
            ],
            [
             0.7,
             "#b8e186"
            ],
            [
             0.8,
             "#7fbc41"
            ],
            [
             0.9,
             "#4d9221"
            ],
            [
             1,
             "#276419"
            ]
           ],
           "sequential": [
            [
             0,
             "#0d0887"
            ],
            [
             0.1111111111111111,
             "#46039f"
            ],
            [
             0.2222222222222222,
             "#7201a8"
            ],
            [
             0.3333333333333333,
             "#9c179e"
            ],
            [
             0.4444444444444444,
             "#bd3786"
            ],
            [
             0.5555555555555556,
             "#d8576b"
            ],
            [
             0.6666666666666666,
             "#ed7953"
            ],
            [
             0.7777777777777778,
             "#fb9f3a"
            ],
            [
             0.8888888888888888,
             "#fdca26"
            ],
            [
             1,
             "#f0f921"
            ]
           ],
           "sequentialminus": [
            [
             0,
             "#0d0887"
            ],
            [
             0.1111111111111111,
             "#46039f"
            ],
            [
             0.2222222222222222,
             "#7201a8"
            ],
            [
             0.3333333333333333,
             "#9c179e"
            ],
            [
             0.4444444444444444,
             "#bd3786"
            ],
            [
             0.5555555555555556,
             "#d8576b"
            ],
            [
             0.6666666666666666,
             "#ed7953"
            ],
            [
             0.7777777777777778,
             "#fb9f3a"
            ],
            [
             0.8888888888888888,
             "#fdca26"
            ],
            [
             1,
             "#f0f921"
            ]
           ]
          },
          "colorway": [
           "#636efa",
           "#EF553B",
           "#00cc96",
           "#ab63fa",
           "#FFA15A",
           "#19d3f3",
           "#FF6692",
           "#B6E880",
           "#FF97FF",
           "#FECB52"
          ],
          "font": {
           "color": "#2a3f5f"
          },
          "geo": {
           "bgcolor": "white",
           "lakecolor": "white",
           "landcolor": "#E5ECF6",
           "showlakes": true,
           "showland": true,
           "subunitcolor": "white"
          },
          "hoverlabel": {
           "align": "left"
          },
          "hovermode": "closest",
          "mapbox": {
           "style": "light"
          },
          "paper_bgcolor": "white",
          "plot_bgcolor": "#E5ECF6",
          "polar": {
           "angularaxis": {
            "gridcolor": "white",
            "linecolor": "white",
            "ticks": ""
           },
           "bgcolor": "#E5ECF6",
           "radialaxis": {
            "gridcolor": "white",
            "linecolor": "white",
            "ticks": ""
           }
          },
          "scene": {
           "xaxis": {
            "backgroundcolor": "#E5ECF6",
            "gridcolor": "white",
            "gridwidth": 2,
            "linecolor": "white",
            "showbackground": true,
            "ticks": "",
            "zerolinecolor": "white"
           },
           "yaxis": {
            "backgroundcolor": "#E5ECF6",
            "gridcolor": "white",
            "gridwidth": 2,
            "linecolor": "white",
            "showbackground": true,
            "ticks": "",
            "zerolinecolor": "white"
           },
           "zaxis": {
            "backgroundcolor": "#E5ECF6",
            "gridcolor": "white",
            "gridwidth": 2,
            "linecolor": "white",
            "showbackground": true,
            "ticks": "",
            "zerolinecolor": "white"
           }
          },
          "shapedefaults": {
           "line": {
            "color": "#2a3f5f"
           }
          },
          "ternary": {
           "aaxis": {
            "gridcolor": "white",
            "linecolor": "white",
            "ticks": ""
           },
           "baxis": {
            "gridcolor": "white",
            "linecolor": "white",
            "ticks": ""
           },
           "bgcolor": "#E5ECF6",
           "caxis": {
            "gridcolor": "white",
            "linecolor": "white",
            "ticks": ""
           }
          },
          "title": {
           "x": 0.05
          },
          "xaxis": {
           "automargin": true,
           "gridcolor": "white",
           "linecolor": "white",
           "ticks": "",
           "title": {
            "standoff": 15
           },
           "zerolinecolor": "white",
           "zerolinewidth": 2
          },
          "yaxis": {
           "automargin": true,
           "gridcolor": "white",
           "linecolor": "white",
           "ticks": "",
           "title": {
            "standoff": 15
           },
           "zerolinecolor": "white",
           "zerolinewidth": 2
          }
         }
        },
        "title": {
         "font": {
          "color": "#4D5663"
         },
         "text": "Earth Reserve Index Policy Curve Data Points"
        },
        "xaxis": {
         "gridcolor": "#E1E5ED",
         "showgrid": true,
         "tickfont": {
          "color": "#4D5663"
         },
         "title": {
          "font": {
           "color": "#4D5663"
          },
          "text": "Percentage Each Indicator Has Changed from Base Year Level to Worst/Best Case Scenario"
         },
         "zerolinecolor": "#E1E5ED"
        },
        "yaxis": {
         "gridcolor": "#E1E5ED",
         "showgrid": true,
         "tickfont": {
          "color": "#4D5663"
         },
         "title": {
          "font": {
           "color": "#4D5663"
          },
          "text": "Resource & Ecosystem Degradation Index"
         },
         "zerolinecolor": "#E1E5ED"
        }
       }
      },
      "text/html": [
       "<div>                            <div id=\"aa4c6d33-338d-427f-a8b1-56409a863603\" class=\"plotly-graph-div\" style=\"height:525px; width:100%;\"></div>            <script type=\"text/javascript\">                require([\"plotly\"], function(Plotly) {                    window.PLOTLYENV=window.PLOTLYENV || {};\n",
       "                    window.PLOTLYENV.BASE_URL='https://plot.ly';                                    if (document.getElementById(\"aa4c6d33-338d-427f-a8b1-56409a863603\")) {                    Plotly.newPlot(                        \"aa4c6d33-338d-427f-a8b1-56409a863603\",                        [{\"marker\": {\"color\": \"rgba(255, 153, 51, 1.0)\", \"line\": {\"width\": 1.3}, \"opacity\": 0.8, \"size\": 12, \"symbol\": \"circle\"}, \"mode\": \"markers\", \"name\": \"-99.22\", \"textfont\": {\"color\": \"#4D5663\"}, \"type\": \"scatter\", \"x\": [67.84], \"y\": [-99.22]}, {\"marker\": {\"color\": \"rgba(55, 128, 191, 1.0)\", \"line\": {\"width\": 1.3}, \"opacity\": 0.8, \"size\": 12, \"symbol\": \"circle\"}, \"mode\": \"markers\", \"name\": \"-98.38\", \"textfont\": {\"color\": \"#4D5663\"}, \"type\": \"scatter\", \"x\": [65.75], \"y\": [-98.38]}, {\"marker\": {\"color\": \"rgba(50, 171, 96, 1.0)\", \"line\": {\"width\": 1.3}, \"opacity\": 0.8, \"size\": 12, \"symbol\": \"circle\"}, \"mode\": \"markers\", \"name\": \"-97.48\", \"textfont\": {\"color\": \"#4D5663\"}, \"type\": \"scatter\", \"x\": [63.71], \"y\": [-97.48]}, {\"marker\": {\"color\": \"rgba(128, 0, 128, 1.0)\", \"line\": {\"width\": 1.3}, \"opacity\": 0.8, \"size\": 12, \"symbol\": \"circle\"}, \"mode\": \"markers\", \"name\": \"-96.53\", \"textfont\": {\"color\": \"#4D5663\"}, \"type\": \"scatter\", \"x\": [61.74], \"y\": [-96.53]}, {\"marker\": {\"color\": \"rgba(219, 64, 82, 1.0)\", \"line\": {\"width\": 1.3}, \"opacity\": 0.8, \"size\": 12, \"symbol\": \"circle\"}, \"mode\": \"markers\", \"name\": \"-95.52\", \"textfont\": {\"color\": \"#4D5663\"}, \"type\": \"scatter\", \"x\": [59.82], \"y\": [-95.52]}, {\"marker\": {\"color\": \"rgba(0, 128, 128, 1.0)\", \"line\": {\"width\": 1.3}, \"opacity\": 0.8, \"size\": 12, \"symbol\": \"circle\"}, \"mode\": \"markers\", \"name\": \"-94.46\", \"textfont\": {\"color\": \"#4D5663\"}, \"type\": \"scatter\", \"x\": [57.97], \"y\": [-94.46]}, {\"marker\": {\"color\": \"rgba(255, 255, 51, 1.0)\", \"line\": {\"width\": 1.3}, \"opacity\": 0.8, \"size\": 12, \"symbol\": \"circle\"}, \"mode\": \"markers\", \"name\": \"-93.34\", \"textfont\": {\"color\": \"#4D5663\"}, \"type\": \"scatter\", \"x\": [56.17], \"y\": [-93.34]}, {\"marker\": {\"color\": \"rgba(128, 128, 0, 1.0)\", \"line\": {\"width\": 1.3}, \"opacity\": 0.8, \"size\": 12, \"symbol\": \"circle\"}, \"mode\": \"markers\", \"name\": \"-92.17\", \"textfont\": {\"color\": \"#4D5663\"}, \"type\": \"scatter\", \"x\": [54.43], \"y\": [-92.17]}, {\"marker\": {\"color\": \"rgba(251, 128, 114, 1.0)\", \"line\": {\"width\": 1.3}, \"opacity\": 0.8, \"size\": 12, \"symbol\": \"circle\"}, \"mode\": \"markers\", \"name\": \"-90.95\", \"textfont\": {\"color\": \"#4D5663\"}, \"type\": \"scatter\", \"x\": [52.74], \"y\": [-90.95]}, {\"marker\": {\"color\": \"rgba(128, 177, 211, 1.0)\", \"line\": {\"width\": 1.3}, \"opacity\": 0.8, \"size\": 12, \"symbol\": \"circle\"}, \"mode\": \"markers\", \"name\": \"-89.68\", \"textfont\": {\"color\": \"#4D5663\"}, \"type\": \"scatter\", \"x\": [51.11], \"y\": [-89.68]}, {\"marker\": {\"color\": \"rgba(128, 177, 211, 0.9191919191919191)\", \"line\": {\"width\": 1.3}, \"opacity\": 0.8, \"size\": 12, \"symbol\": \"circle\"}, \"mode\": \"markers\", \"name\": \"-88.35\", \"textfont\": {\"color\": \"#4D5663\"}, \"type\": \"scatter\", \"x\": [49.53], \"y\": [-88.35]}, {\"marker\": {\"color\": \"rgba(255, 153, 51, 0.9191919191919191)\", \"line\": {\"width\": 1.3}, \"opacity\": 0.8, \"size\": 12, \"symbol\": \"circle\"}, \"mode\": \"markers\", \"name\": \"-86.98\", \"textfont\": {\"color\": \"#4D5663\"}, \"type\": \"scatter\", \"x\": [48.01], \"y\": [-86.98]}, {\"marker\": {\"color\": \"rgba(55, 128, 191, 0.9191919191919191)\", \"line\": {\"width\": 1.3}, \"opacity\": 0.8, \"size\": 12, \"symbol\": \"circle\"}, \"mode\": \"markers\", \"name\": \"-85.56\", \"textfont\": {\"color\": \"#4D5663\"}, \"type\": \"scatter\", \"x\": [46.54], \"y\": [-85.56]}, {\"marker\": {\"color\": \"rgba(50, 171, 96, 0.9191919191919191)\", \"line\": {\"width\": 1.3}, \"opacity\": 0.8, \"size\": 12, \"symbol\": \"circle\"}, \"mode\": \"markers\", \"name\": \"-84.1\", \"textfont\": {\"color\": \"#4D5663\"}, \"type\": \"scatter\", \"x\": [45.11], \"y\": [-84.1]}, {\"marker\": {\"color\": \"rgba(128, 0, 128, 0.9191919191919191)\", \"line\": {\"width\": 1.3}, \"opacity\": 0.8, \"size\": 12, \"symbol\": \"circle\"}, \"mode\": \"markers\", \"name\": \"-82.59\", \"textfont\": {\"color\": \"#4D5663\"}, \"type\": \"scatter\", \"x\": [43.74], \"y\": [-82.59]}, {\"marker\": {\"color\": \"rgba(219, 64, 82, 0.9191919191919191)\", \"line\": {\"width\": 1.3}, \"opacity\": 0.8, \"size\": 12, \"symbol\": \"circle\"}, \"mode\": \"markers\", \"name\": \"-81.04\", \"textfont\": {\"color\": \"#4D5663\"}, \"type\": \"scatter\", \"x\": [42.41], \"y\": [-81.04]}, {\"marker\": {\"color\": \"rgba(0, 128, 128, 0.9191919191919191)\", \"line\": {\"width\": 1.3}, \"opacity\": 0.8, \"size\": 12, \"symbol\": \"circle\"}, \"mode\": \"markers\", \"name\": \"-79.44\", \"textfont\": {\"color\": \"#4D5663\"}, \"type\": \"scatter\", \"x\": [41.13], \"y\": [-79.44]}, {\"marker\": {\"color\": \"rgba(255, 255, 51, 0.9191919191919191)\", \"line\": {\"width\": 1.3}, \"opacity\": 0.8, \"size\": 12, \"symbol\": \"circle\"}, \"mode\": \"markers\", \"name\": \"-77.8\", \"textfont\": {\"color\": \"#4D5663\"}, \"type\": \"scatter\", \"x\": [39.9], \"y\": [-77.8]}, {\"marker\": {\"color\": \"rgba(128, 128, 0, 0.9191919191919191)\", \"line\": {\"width\": 1.3}, \"opacity\": 0.8, \"size\": 12, \"symbol\": \"circle\"}, \"mode\": \"markers\", \"name\": \"-76.12\", \"textfont\": {\"color\": \"#4D5663\"}, \"type\": \"scatter\", \"x\": [38.72], \"y\": [-76.12]}, {\"marker\": {\"color\": \"rgba(251, 128, 114, 0.9191919191919191)\", \"line\": {\"width\": 1.3}, \"opacity\": 0.8, \"size\": 12, \"symbol\": \"circle\"}, \"mode\": \"markers\", \"name\": \"-74.4\", \"textfont\": {\"color\": \"#4D5663\"}, \"type\": \"scatter\", \"x\": [37.58], \"y\": [-74.4]}, {\"marker\": {\"color\": \"rgba(251, 128, 114, 0.8383838383838382)\", \"line\": {\"width\": 1.3}, \"opacity\": 0.8, \"size\": 12, \"symbol\": \"circle\"}, \"mode\": \"markers\", \"name\": \"-72.64\", \"textfont\": {\"color\": \"#4D5663\"}, \"type\": \"scatter\", \"x\": [36.48], \"y\": [-72.64]}, {\"marker\": {\"color\": \"rgba(128, 177, 211, 0.8383838383838382)\", \"line\": {\"width\": 1.3}, \"opacity\": 0.8, \"size\": 12, \"symbol\": \"circle\"}, \"mode\": \"markers\", \"name\": \"-70.84\", \"textfont\": {\"color\": \"#4D5663\"}, \"type\": \"scatter\", \"x\": [35.42], \"y\": [-70.84]}, {\"marker\": {\"color\": \"rgba(255, 153, 51, 0.8383838383838382)\", \"line\": {\"width\": 1.3}, \"opacity\": 0.8, \"size\": 12, \"symbol\": \"circle\"}, \"mode\": \"markers\", \"name\": \"-69.01\", \"textfont\": {\"color\": \"#4D5663\"}, \"type\": \"scatter\", \"x\": [34.41], \"y\": [-69.01]}, {\"marker\": {\"color\": \"rgba(55, 128, 191, 0.8383838383838382)\", \"line\": {\"width\": 1.3}, \"opacity\": 0.8, \"size\": 12, \"symbol\": \"circle\"}, \"mode\": \"markers\", \"name\": \"-67.14\", \"textfont\": {\"color\": \"#4D5663\"}, \"type\": \"scatter\", \"x\": [33.43], \"y\": [-67.14]}, {\"marker\": {\"color\": \"rgba(50, 171, 96, 0.8383838383838382)\", \"line\": {\"width\": 1.3}, \"opacity\": 0.8, \"size\": 12, \"symbol\": \"circle\"}, \"mode\": \"markers\", \"name\": \"-65.23\", \"textfont\": {\"color\": \"#4D5663\"}, \"type\": \"scatter\", \"x\": [32.5], \"y\": [-65.23]}, {\"marker\": {\"color\": \"rgba(128, 0, 128, 0.8383838383838382)\", \"line\": {\"width\": 1.3}, \"opacity\": 0.8, \"size\": 12, \"symbol\": \"circle\"}, \"mode\": \"markers\", \"name\": \"-63.3\", \"textfont\": {\"color\": \"#4D5663\"}, \"type\": \"scatter\", \"x\": [31.6], \"y\": [-63.3]}, {\"marker\": {\"color\": \"rgba(219, 64, 82, 0.8383838383838382)\", \"line\": {\"width\": 1.3}, \"opacity\": 0.8, \"size\": 12, \"symbol\": \"circle\"}, \"mode\": \"markers\", \"name\": \"-61.32\", \"textfont\": {\"color\": \"#4D5663\"}, \"type\": \"scatter\", \"x\": [30.75], \"y\": [-61.32]}, {\"marker\": {\"color\": \"rgba(0, 128, 128, 0.8383838383838382)\", \"line\": {\"width\": 1.3}, \"opacity\": 0.8, \"size\": 12, \"symbol\": \"circle\"}, \"mode\": \"markers\", \"name\": \"-59.32\", \"textfont\": {\"color\": \"#4D5663\"}, \"type\": \"scatter\", \"x\": [29.92], \"y\": [-59.32]}, {\"marker\": {\"color\": \"rgba(255, 255, 51, 0.8383838383838382)\", \"line\": {\"width\": 1.3}, \"opacity\": 0.8, \"size\": 12, \"symbol\": \"circle\"}, \"mode\": \"markers\", \"name\": \"-57.29\", \"textfont\": {\"color\": \"#4D5663\"}, \"type\": \"scatter\", \"x\": [29.14], \"y\": [-57.29]}, {\"marker\": {\"color\": \"rgba(128, 128, 0, 0.8383838383838382)\", \"line\": {\"width\": 1.3}, \"opacity\": 0.8, \"size\": 12, \"symbol\": \"circle\"}, \"mode\": \"markers\", \"name\": \"-55.23\", \"textfont\": {\"color\": \"#4D5663\"}, \"type\": \"scatter\", \"x\": [28.38], \"y\": [-55.23]}, {\"marker\": {\"color\": \"rgba(128, 128, 0, 0.7575757575757576)\", \"line\": {\"width\": 1.3}, \"opacity\": 0.8, \"size\": 12, \"symbol\": \"circle\"}, \"mode\": \"markers\", \"name\": \"-53.13\", \"textfont\": {\"color\": \"#4D5663\"}, \"type\": \"scatter\", \"x\": [27.66], \"y\": [-53.13]}, {\"marker\": {\"color\": \"rgba(251, 128, 114, 0.7575757575757576)\", \"line\": {\"width\": 1.3}, \"opacity\": 0.8, \"size\": 12, \"symbol\": \"circle\"}, \"mode\": \"markers\", \"name\": \"-51.01\", \"textfont\": {\"color\": \"#4D5663\"}, \"type\": \"scatter\", \"x\": [26.98], \"y\": [-51.01]}, {\"marker\": {\"color\": \"rgba(128, 177, 211, 0.7575757575757576)\", \"line\": {\"width\": 1.3}, \"opacity\": 0.8, \"size\": 12, \"symbol\": \"circle\"}, \"mode\": \"markers\", \"name\": \"-48.87\", \"textfont\": {\"color\": \"#4D5663\"}, \"type\": \"scatter\", \"x\": [26.32], \"y\": [-48.87]}, {\"marker\": {\"color\": \"rgba(255, 153, 51, 0.7575757575757576)\", \"line\": {\"width\": 1.3}, \"opacity\": 0.8, \"size\": 12, \"symbol\": \"circle\"}, \"mode\": \"markers\", \"name\": \"-46.7\", \"textfont\": {\"color\": \"#4D5663\"}, \"type\": \"scatter\", \"x\": [25.7], \"y\": [-46.7]}, {\"marker\": {\"color\": \"rgba(55, 128, 191, 0.7575757575757576)\", \"line\": {\"width\": 1.3}, \"opacity\": 0.8, \"size\": 12, \"symbol\": \"circle\"}, \"mode\": \"markers\", \"name\": \"-44.5\", \"textfont\": {\"color\": \"#4D5663\"}, \"type\": \"scatter\", \"x\": [25.1], \"y\": [-44.5]}, {\"marker\": {\"color\": \"rgba(50, 171, 96, 0.7575757575757576)\", \"line\": {\"width\": 1.3}, \"opacity\": 0.8, \"size\": 12, \"symbol\": \"circle\"}, \"mode\": \"markers\", \"name\": \"-42.28\", \"textfont\": {\"color\": \"#4D5663\"}, \"type\": \"scatter\", \"x\": [24.53], \"y\": [-42.28]}, {\"marker\": {\"color\": \"rgba(128, 0, 128, 0.7575757575757576)\", \"line\": {\"width\": 1.3}, \"opacity\": 0.8, \"size\": 12, \"symbol\": \"circle\"}, \"mode\": \"markers\", \"name\": \"-40.04\", \"textfont\": {\"color\": \"#4D5663\"}, \"type\": \"scatter\", \"x\": [23.99], \"y\": [-40.04]}, {\"marker\": {\"color\": \"rgba(219, 64, 82, 0.7575757575757576)\", \"line\": {\"width\": 1.3}, \"opacity\": 0.8, \"size\": 12, \"symbol\": \"circle\"}, \"mode\": \"markers\", \"name\": \"-37.78\", \"textfont\": {\"color\": \"#4D5663\"}, \"type\": \"scatter\", \"x\": [23.48], \"y\": [-37.78]}, {\"marker\": {\"color\": \"rgba(0, 128, 128, 0.7575757575757576)\", \"line\": {\"width\": 1.3}, \"opacity\": 0.8, \"size\": 12, \"symbol\": \"circle\"}, \"mode\": \"markers\", \"name\": \"-35.5\", \"textfont\": {\"color\": \"#4D5663\"}, \"type\": \"scatter\", \"x\": [22.99], \"y\": [-35.5]}, {\"marker\": {\"color\": \"rgba(255, 255, 51, 0.7575757575757576)\", \"line\": {\"width\": 1.3}, \"opacity\": 0.8, \"size\": 12, \"symbol\": \"circle\"}, \"mode\": \"markers\", \"name\": \"-33.2\", \"textfont\": {\"color\": \"#4D5663\"}, \"type\": \"scatter\", \"x\": [22.53], \"y\": [-33.2]}, {\"marker\": {\"color\": \"rgba(255, 255, 51, 0.6767676767676767)\", \"line\": {\"width\": 1.3}, \"opacity\": 0.8, \"size\": 12, \"symbol\": \"circle\"}, \"mode\": \"markers\", \"name\": \"-30.88\", \"textfont\": {\"color\": \"#4D5663\"}, \"type\": \"scatter\", \"x\": [22.09], \"y\": [-30.88]}, {\"marker\": {\"color\": \"rgba(128, 128, 0, 0.6767676767676767)\", \"line\": {\"width\": 1.3}, \"opacity\": 0.8, \"size\": 12, \"symbol\": \"circle\"}, \"mode\": \"markers\", \"name\": \"-28.55\", \"textfont\": {\"color\": \"#4D5663\"}, \"type\": \"scatter\", \"x\": [21.67], \"y\": [-28.55]}, {\"marker\": {\"color\": \"rgba(251, 128, 114, 0.6767676767676767)\", \"line\": {\"width\": 1.3}, \"opacity\": 0.8, \"size\": 12, \"symbol\": \"circle\"}, \"mode\": \"markers\", \"name\": \"-26.19\", \"textfont\": {\"color\": \"#4D5663\"}, \"type\": \"scatter\", \"x\": [21.27], \"y\": [-26.19]}, {\"marker\": {\"color\": \"rgba(128, 177, 211, 0.6767676767676767)\", \"line\": {\"width\": 1.3}, \"opacity\": 0.8, \"size\": 12, \"symbol\": \"circle\"}, \"mode\": \"markers\", \"name\": \"-23.83\", \"textfont\": {\"color\": \"#4D5663\"}, \"type\": \"scatter\", \"x\": [20.89], \"y\": [-23.83]}, {\"marker\": {\"color\": \"rgba(255, 153, 51, 0.6767676767676767)\", \"line\": {\"width\": 1.3}, \"opacity\": 0.8, \"size\": 12, \"symbol\": \"circle\"}, \"mode\": \"markers\", \"name\": \"-21.45\", \"textfont\": {\"color\": \"#4D5663\"}, \"type\": \"scatter\", \"x\": [20.54], \"y\": [-21.45]}, {\"marker\": {\"color\": \"rgba(55, 128, 191, 0.6767676767676767)\", \"line\": {\"width\": 1.3}, \"opacity\": 0.8, \"size\": 12, \"symbol\": \"circle\"}, \"mode\": \"markers\", \"name\": \"-19.05\", \"textfont\": {\"color\": \"#4D5663\"}, \"type\": \"scatter\", \"x\": [20.2], \"y\": [-19.05]}, {\"marker\": {\"color\": \"rgba(50, 171, 96, 0.6767676767676767)\", \"line\": {\"width\": 1.3}, \"opacity\": 0.8, \"size\": 12, \"symbol\": \"circle\"}, \"mode\": \"markers\", \"name\": \"-16.65\", \"textfont\": {\"color\": \"#4D5663\"}, \"type\": \"scatter\", \"x\": [19.87], \"y\": [-16.65]}, {\"marker\": {\"color\": \"rgba(128, 0, 128, 0.6767676767676767)\", \"line\": {\"width\": 1.3}, \"opacity\": 0.8, \"size\": 12, \"symbol\": \"circle\"}, \"mode\": \"markers\", \"name\": \"-14.23\", \"textfont\": {\"color\": \"#4D5663\"}, \"type\": \"scatter\", \"x\": [19.57], \"y\": [-14.23]}, {\"marker\": {\"color\": \"rgba(219, 64, 82, 0.6767676767676767)\", \"line\": {\"width\": 1.3}, \"opacity\": 0.8, \"size\": 12, \"symbol\": \"circle\"}, \"mode\": \"markers\", \"name\": \"-11.81\", \"textfont\": {\"color\": \"#4D5663\"}, \"type\": \"scatter\", \"x\": [19.28], \"y\": [-11.81]}, {\"marker\": {\"color\": \"rgba(0, 128, 128, 0.6767676767676767)\", \"line\": {\"width\": 1.3}, \"opacity\": 0.8, \"size\": 12, \"symbol\": \"circle\"}, \"mode\": \"markers\", \"name\": \"-9.37\", \"textfont\": {\"color\": \"#4D5663\"}, \"type\": \"scatter\", \"x\": [19.0], \"y\": [-9.37]}, {\"marker\": {\"color\": \"rgba(0, 128, 128, 0.5959595959595958)\", \"line\": {\"width\": 1.3}, \"opacity\": 0.8, \"size\": 12, \"symbol\": \"circle\"}, \"mode\": \"markers\", \"name\": \"-6.93\", \"textfont\": {\"color\": \"#4D5663\"}, \"type\": \"scatter\", \"x\": [18.74], \"y\": [-6.93]}, {\"marker\": {\"color\": \"rgba(255, 255, 51, 0.5959595959595958)\", \"line\": {\"width\": 1.3}, \"opacity\": 0.8, \"size\": 12, \"symbol\": \"circle\"}, \"mode\": \"markers\", \"name\": \"-4.49\", \"textfont\": {\"color\": \"#4D5663\"}, \"type\": \"scatter\", \"x\": [18.49], \"y\": [-4.49]}, {\"marker\": {\"color\": \"rgba(128, 128, 0, 0.5959595959595958)\", \"line\": {\"width\": 1.3}, \"opacity\": 0.8, \"size\": 12, \"symbol\": \"circle\"}, \"mode\": \"markers\", \"name\": \"-2.03\", \"textfont\": {\"color\": \"#4D5663\"}, \"type\": \"scatter\", \"x\": [18.24], \"y\": [-2.03]}, {\"marker\": {\"color\": \"rgba(251, 128, 114, 0.5959595959595958)\", \"line\": {\"width\": 1.3}, \"opacity\": 0.8, \"size\": 12, \"symbol\": \"circle\"}, \"mode\": \"markers\", \"name\": \"0.42\", \"textfont\": {\"color\": \"#4D5663\"}, \"type\": \"scatter\", \"x\": [18.01], \"y\": [0.42]}, {\"marker\": {\"color\": \"rgba(128, 177, 211, 0.5959595959595958)\", \"line\": {\"width\": 1.3}, \"opacity\": 0.8, \"size\": 12, \"symbol\": \"circle\"}, \"mode\": \"markers\", \"name\": \"2.88\", \"textfont\": {\"color\": \"#4D5663\"}, \"type\": \"scatter\", \"x\": [17.79], \"y\": [2.88]}, {\"marker\": {\"color\": \"rgba(255, 153, 51, 0.5959595959595958)\", \"line\": {\"width\": 1.3}, \"opacity\": 0.8, \"size\": 12, \"symbol\": \"circle\"}, \"mode\": \"markers\", \"name\": \"5.35\", \"textfont\": {\"color\": \"#4D5663\"}, \"type\": \"scatter\", \"x\": [17.58], \"y\": [5.35]}, {\"marker\": {\"color\": \"rgba(55, 128, 191, 0.5959595959595958)\", \"line\": {\"width\": 1.3}, \"opacity\": 0.8, \"size\": 12, \"symbol\": \"circle\"}, \"mode\": \"markers\", \"name\": \"7.81\", \"textfont\": {\"color\": \"#4D5663\"}, \"type\": \"scatter\", \"x\": [17.38], \"y\": [7.81]}, {\"marker\": {\"color\": \"rgba(50, 171, 96, 0.5959595959595958)\", \"line\": {\"width\": 1.3}, \"opacity\": 0.8, \"size\": 12, \"symbol\": \"circle\"}, \"mode\": \"markers\", \"name\": \"10.28\", \"textfont\": {\"color\": \"#4D5663\"}, \"type\": \"scatter\", \"x\": [17.18], \"y\": [10.28]}, {\"marker\": {\"color\": \"rgba(128, 0, 128, 0.5959595959595958)\", \"line\": {\"width\": 1.3}, \"opacity\": 0.8, \"size\": 12, \"symbol\": \"circle\"}, \"mode\": \"markers\", \"name\": \"12.74\", \"textfont\": {\"color\": \"#4D5663\"}, \"type\": \"scatter\", \"x\": [16.98], \"y\": [12.74]}, {\"marker\": {\"color\": \"rgba(219, 64, 82, 0.5959595959595958)\", \"line\": {\"width\": 1.3}, \"opacity\": 0.8, \"size\": 12, \"symbol\": \"circle\"}, \"mode\": \"markers\", \"name\": \"15.2\", \"textfont\": {\"color\": \"#4D5663\"}, \"type\": \"scatter\", \"x\": [16.79], \"y\": [15.2]}, {\"marker\": {\"color\": \"rgba(219, 64, 82, 0.5151515151515149)\", \"line\": {\"width\": 1.3}, \"opacity\": 0.8, \"size\": 12, \"symbol\": \"circle\"}, \"mode\": \"markers\", \"name\": \"17.66\", \"textfont\": {\"color\": \"#4D5663\"}, \"type\": \"scatter\", \"x\": [16.6], \"y\": [17.66]}, {\"marker\": {\"color\": \"rgba(0, 128, 128, 0.5151515151515149)\", \"line\": {\"width\": 1.3}, \"opacity\": 0.8, \"size\": 12, \"symbol\": \"circle\"}, \"mode\": \"markers\", \"name\": \"20.11\", \"textfont\": {\"color\": \"#4D5663\"}, \"type\": \"scatter\", \"x\": [16.42], \"y\": [20.11]}, {\"marker\": {\"color\": \"rgba(255, 255, 51, 0.5151515151515149)\", \"line\": {\"width\": 1.3}, \"opacity\": 0.8, \"size\": 12, \"symbol\": \"circle\"}, \"mode\": \"markers\", \"name\": \"22.56\", \"textfont\": {\"color\": \"#4D5663\"}, \"type\": \"scatter\", \"x\": [16.24], \"y\": [22.56]}, {\"marker\": {\"color\": \"rgba(128, 128, 0, 0.5151515151515149)\", \"line\": {\"width\": 1.3}, \"opacity\": 0.8, \"size\": 12, \"symbol\": \"circle\"}, \"mode\": \"markers\", \"name\": \"25.0\", \"textfont\": {\"color\": \"#4D5663\"}, \"type\": \"scatter\", \"x\": [16.05], \"y\": [25.0]}, {\"marker\": {\"color\": \"rgba(251, 128, 114, 0.5151515151515149)\", \"line\": {\"width\": 1.3}, \"opacity\": 0.8, \"size\": 12, \"symbol\": \"circle\"}, \"mode\": \"markers\", \"name\": \"27.44\", \"textfont\": {\"color\": \"#4D5663\"}, \"type\": \"scatter\", \"x\": [15.87], \"y\": [27.44]}, {\"marker\": {\"color\": \"rgba(128, 177, 211, 0.5151515151515149)\", \"line\": {\"width\": 1.3}, \"opacity\": 0.8, \"size\": 12, \"symbol\": \"circle\"}, \"mode\": \"markers\", \"name\": \"29.87\", \"textfont\": {\"color\": \"#4D5663\"}, \"type\": \"scatter\", \"x\": [15.68], \"y\": [29.87]}, {\"marker\": {\"color\": \"rgba(255, 153, 51, 0.5151515151515149)\", \"line\": {\"width\": 1.3}, \"opacity\": 0.8, \"size\": 12, \"symbol\": \"circle\"}, \"mode\": \"markers\", \"name\": \"32.29\", \"textfont\": {\"color\": \"#4D5663\"}, \"type\": \"scatter\", \"x\": [15.49], \"y\": [32.29]}, {\"marker\": {\"color\": \"rgba(55, 128, 191, 0.5151515151515149)\", \"line\": {\"width\": 1.3}, \"opacity\": 0.8, \"size\": 12, \"symbol\": \"circle\"}, \"mode\": \"markers\", \"name\": \"34.69\", \"textfont\": {\"color\": \"#4D5663\"}, \"type\": \"scatter\", \"x\": [15.3], \"y\": [34.69]}, {\"marker\": {\"color\": \"rgba(50, 171, 96, 0.5151515151515149)\", \"line\": {\"width\": 1.3}, \"opacity\": 0.8, \"size\": 12, \"symbol\": \"circle\"}, \"mode\": \"markers\", \"name\": \"37.09\", \"textfont\": {\"color\": \"#4D5663\"}, \"type\": \"scatter\", \"x\": [15.1], \"y\": [37.09]}, {\"marker\": {\"color\": \"rgba(128, 0, 128, 0.5151515151515149)\", \"line\": {\"width\": 1.3}, \"opacity\": 0.8, \"size\": 12, \"symbol\": \"circle\"}, \"mode\": \"markers\", \"name\": \"39.48\", \"textfont\": {\"color\": \"#4D5663\"}, \"type\": \"scatter\", \"x\": [14.9], \"y\": [39.48]}, {\"marker\": {\"color\": \"rgba(128, 0, 128, 0.4343434343434343)\", \"line\": {\"width\": 1.3}, \"opacity\": 0.8, \"size\": 12, \"symbol\": \"circle\"}, \"mode\": \"markers\", \"name\": \"41.85\", \"textfont\": {\"color\": \"#4D5663\"}, \"type\": \"scatter\", \"x\": [14.68], \"y\": [41.85]}, {\"marker\": {\"color\": \"rgba(219, 64, 82, 0.4343434343434343)\", \"line\": {\"width\": 1.3}, \"opacity\": 0.8, \"size\": 12, \"symbol\": \"circle\"}, \"mode\": \"markers\", \"name\": \"44.2\", \"textfont\": {\"color\": \"#4D5663\"}, \"type\": \"scatter\", \"x\": [14.47], \"y\": [44.2]}, {\"marker\": {\"color\": \"rgba(0, 128, 128, 0.4343434343434343)\", \"line\": {\"width\": 1.3}, \"opacity\": 0.8, \"size\": 12, \"symbol\": \"circle\"}, \"mode\": \"markers\", \"name\": \"46.54\", \"textfont\": {\"color\": \"#4D5663\"}, \"type\": \"scatter\", \"x\": [14.24], \"y\": [46.54]}, {\"marker\": {\"color\": \"rgba(255, 255, 51, 0.4343434343434343)\", \"line\": {\"width\": 1.3}, \"opacity\": 0.8, \"size\": 12, \"symbol\": \"circle\"}, \"mode\": \"markers\", \"name\": \"48.87\", \"textfont\": {\"color\": \"#4D5663\"}, \"type\": \"scatter\", \"x\": [14.0], \"y\": [48.87]}, {\"marker\": {\"color\": \"rgba(128, 128, 0, 0.4343434343434343)\", \"line\": {\"width\": 1.3}, \"opacity\": 0.8, \"size\": 12, \"symbol\": \"circle\"}, \"mode\": \"markers\", \"name\": \"51.17\", \"textfont\": {\"color\": \"#4D5663\"}, \"type\": \"scatter\", \"x\": [13.75], \"y\": [51.17]}, {\"marker\": {\"color\": \"rgba(251, 128, 114, 0.4343434343434343)\", \"line\": {\"width\": 1.3}, \"opacity\": 0.8, \"size\": 12, \"symbol\": \"circle\"}, \"mode\": \"markers\", \"name\": \"53.46\", \"textfont\": {\"color\": \"#4D5663\"}, \"type\": \"scatter\", \"x\": [13.49], \"y\": [53.46]}, {\"marker\": {\"color\": \"rgba(128, 177, 211, 0.4343434343434343)\", \"line\": {\"width\": 1.3}, \"opacity\": 0.8, \"size\": 12, \"symbol\": \"circle\"}, \"mode\": \"markers\", \"name\": \"55.73\", \"textfont\": {\"color\": \"#4D5663\"}, \"type\": \"scatter\", \"x\": [13.21], \"y\": [55.73]}, {\"marker\": {\"color\": \"rgba(255, 153, 51, 0.4343434343434343)\", \"line\": {\"width\": 1.3}, \"opacity\": 0.8, \"size\": 12, \"symbol\": \"circle\"}, \"mode\": \"markers\", \"name\": \"57.97\", \"textfont\": {\"color\": \"#4D5663\"}, \"type\": \"scatter\", \"x\": [12.93], \"y\": [57.97]}, {\"marker\": {\"color\": \"rgba(55, 128, 191, 0.4343434343434343)\", \"line\": {\"width\": 1.3}, \"opacity\": 0.8, \"size\": 12, \"symbol\": \"circle\"}, \"mode\": \"markers\", \"name\": \"60.2\", \"textfont\": {\"color\": \"#4D5663\"}, \"type\": \"scatter\", \"x\": [12.62], \"y\": [60.2]}, {\"marker\": {\"color\": \"rgba(50, 171, 96, 0.4343434343434343)\", \"line\": {\"width\": 1.3}, \"opacity\": 0.8, \"size\": 12, \"symbol\": \"circle\"}, \"mode\": \"markers\", \"name\": \"62.4\", \"textfont\": {\"color\": \"#4D5663\"}, \"type\": \"scatter\", \"x\": [12.3], \"y\": [62.4]}, {\"marker\": {\"color\": \"rgba(50, 171, 96, 0.3535353535353534)\", \"line\": {\"width\": 1.3}, \"opacity\": 0.8, \"size\": 12, \"symbol\": \"circle\"}, \"mode\": \"markers\", \"name\": \"64.58\", \"textfont\": {\"color\": \"#4D5663\"}, \"type\": \"scatter\", \"x\": [11.97], \"y\": [64.58]}, {\"marker\": {\"color\": \"rgba(128, 0, 128, 0.3535353535353534)\", \"line\": {\"width\": 1.3}, \"opacity\": 0.8, \"size\": 12, \"symbol\": \"circle\"}, \"mode\": \"markers\", \"name\": \"66.73\", \"textfont\": {\"color\": \"#4D5663\"}, \"type\": \"scatter\", \"x\": [11.61], \"y\": [66.73]}, {\"marker\": {\"color\": \"rgba(219, 64, 82, 0.3535353535353534)\", \"line\": {\"width\": 1.3}, \"opacity\": 0.8, \"size\": 12, \"symbol\": \"circle\"}, \"mode\": \"markers\", \"name\": \"68.86\", \"textfont\": {\"color\": \"#4D5663\"}, \"type\": \"scatter\", \"x\": [11.24], \"y\": [68.86]}, {\"marker\": {\"color\": \"rgba(0, 128, 128, 0.3535353535353534)\", \"line\": {\"width\": 1.3}, \"opacity\": 0.8, \"size\": 12, \"symbol\": \"circle\"}, \"mode\": \"markers\", \"name\": \"70.96\", \"textfont\": {\"color\": \"#4D5663\"}, \"type\": \"scatter\", \"x\": [10.85], \"y\": [70.96]}, {\"marker\": {\"color\": \"rgba(255, 255, 51, 0.3535353535353534)\", \"line\": {\"width\": 1.3}, \"opacity\": 0.8, \"size\": 12, \"symbol\": \"circle\"}, \"mode\": \"markers\", \"name\": \"73.03\", \"textfont\": {\"color\": \"#4D5663\"}, \"type\": \"scatter\", \"x\": [10.43], \"y\": [73.03]}, {\"marker\": {\"color\": \"rgba(128, 128, 0, 0.3535353535353534)\", \"line\": {\"width\": 1.3}, \"opacity\": 0.8, \"size\": 12, \"symbol\": \"circle\"}, \"mode\": \"markers\", \"name\": \"75.07\", \"textfont\": {\"color\": \"#4D5663\"}, \"type\": \"scatter\", \"x\": [10.0], \"y\": [75.07]}, {\"marker\": {\"color\": \"rgba(251, 128, 114, 0.3535353535353534)\", \"line\": {\"width\": 1.3}, \"opacity\": 0.8, \"size\": 12, \"symbol\": \"circle\"}, \"mode\": \"markers\", \"name\": \"77.08\", \"textfont\": {\"color\": \"#4D5663\"}, \"type\": \"scatter\", \"x\": [9.54], \"y\": [77.08]}, {\"marker\": {\"color\": \"rgba(128, 177, 211, 0.3535353535353534)\", \"line\": {\"width\": 1.3}, \"opacity\": 0.8, \"size\": 12, \"symbol\": \"circle\"}, \"mode\": \"markers\", \"name\": \"79.06\", \"textfont\": {\"color\": \"#4D5663\"}, \"type\": \"scatter\", \"x\": [9.05], \"y\": [79.06]}, {\"marker\": {\"color\": \"rgba(255, 153, 51, 0.3535353535353534)\", \"line\": {\"width\": 1.3}, \"opacity\": 0.8, \"size\": 12, \"symbol\": \"circle\"}, \"mode\": \"markers\", \"name\": \"81.01\", \"textfont\": {\"color\": \"#4D5663\"}, \"type\": \"scatter\", \"x\": [8.54], \"y\": [81.01]}, {\"marker\": {\"color\": \"rgba(55, 128, 191, 0.3535353535353534)\", \"line\": {\"width\": 1.3}, \"opacity\": 0.8, \"size\": 12, \"symbol\": \"circle\"}, \"mode\": \"markers\", \"name\": \"82.93\", \"textfont\": {\"color\": \"#4D5663\"}, \"type\": \"scatter\", \"x\": [8.01], \"y\": [82.93]}, {\"marker\": {\"color\": \"rgba(55, 128, 191, 0.27272727272727254)\", \"line\": {\"width\": 1.3}, \"opacity\": 0.8, \"size\": 12, \"symbol\": \"circle\"}, \"mode\": \"markers\", \"name\": \"84.81\", \"textfont\": {\"color\": \"#4D5663\"}, \"type\": \"scatter\", \"x\": [7.45], \"y\": [84.81]}, {\"marker\": {\"color\": \"rgba(50, 171, 96, 0.27272727272727254)\", \"line\": {\"width\": 1.3}, \"opacity\": 0.8, \"size\": 12, \"symbol\": \"circle\"}, \"mode\": \"markers\", \"name\": \"86.65\", \"textfont\": {\"color\": \"#4D5663\"}, \"type\": \"scatter\", \"x\": [6.86], \"y\": [86.65]}, {\"marker\": {\"color\": \"rgba(128, 0, 128, 0.27272727272727254)\", \"line\": {\"width\": 1.3}, \"opacity\": 0.8, \"size\": 12, \"symbol\": \"circle\"}, \"mode\": \"markers\", \"name\": \"88.46\", \"textfont\": {\"color\": \"#4D5663\"}, \"type\": \"scatter\", \"x\": [6.24], \"y\": [88.46]}, {\"marker\": {\"color\": \"rgba(219, 64, 82, 0.27272727272727254)\", \"line\": {\"width\": 1.3}, \"opacity\": 0.8, \"size\": 12, \"symbol\": \"circle\"}, \"mode\": \"markers\", \"name\": \"90.23\", \"textfont\": {\"color\": \"#4D5663\"}, \"type\": \"scatter\", \"x\": [5.59], \"y\": [90.23]}, {\"marker\": {\"color\": \"rgba(0, 128, 128, 0.27272727272727254)\", \"line\": {\"width\": 1.3}, \"opacity\": 0.8, \"size\": 12, \"symbol\": \"circle\"}, \"mode\": \"markers\", \"name\": \"91.96\", \"textfont\": {\"color\": \"#4D5663\"}, \"type\": \"scatter\", \"x\": [4.91], \"y\": [91.96]}, {\"marker\": {\"color\": \"rgba(255, 255, 51, 0.27272727272727254)\", \"line\": {\"width\": 1.3}, \"opacity\": 0.8, \"size\": 12, \"symbol\": \"circle\"}, \"mode\": \"markers\", \"name\": \"93.65\", \"textfont\": {\"color\": \"#4D5663\"}, \"type\": \"scatter\", \"x\": [4.19], \"y\": [93.65]}, {\"marker\": {\"color\": \"rgba(128, 128, 0, 0.27272727272727254)\", \"line\": {\"width\": 1.3}, \"opacity\": 0.8, \"size\": 12, \"symbol\": \"circle\"}, \"mode\": \"markers\", \"name\": \"95.3\", \"textfont\": {\"color\": \"#4D5663\"}, \"type\": \"scatter\", \"x\": [3.45], \"y\": [95.3]}, {\"marker\": {\"color\": \"rgba(251, 128, 114, 0.27272727272727254)\", \"line\": {\"width\": 1.3}, \"opacity\": 0.8, \"size\": 12, \"symbol\": \"circle\"}, \"mode\": \"markers\", \"name\": \"96.91\", \"textfont\": {\"color\": \"#4D5663\"}, \"type\": \"scatter\", \"x\": [2.67], \"y\": [96.91]}, {\"marker\": {\"color\": \"rgba(128, 177, 211, 0.27272727272727254)\", \"line\": {\"width\": 1.3}, \"opacity\": 0.8, \"size\": 12, \"symbol\": \"circle\"}, \"mode\": \"markers\", \"name\": \"98.48\", \"textfont\": {\"color\": \"#4D5663\"}, \"type\": \"scatter\", \"x\": [1.85], \"y\": [98.48]}],                        {\"legend\": {\"bgcolor\": \"#F5F6F9\", \"font\": {\"color\": \"#4D5663\"}}, \"paper_bgcolor\": \"#F5F6F9\", \"plot_bgcolor\": \"#F5F6F9\", \"template\": {\"data\": {\"bar\": [{\"error_x\": {\"color\": \"#2a3f5f\"}, \"error_y\": {\"color\": \"#2a3f5f\"}, \"marker\": {\"line\": {\"color\": \"#E5ECF6\", \"width\": 0.5}}, \"type\": \"bar\"}], \"barpolar\": [{\"marker\": {\"line\": {\"color\": \"#E5ECF6\", \"width\": 0.5}}, \"type\": \"barpolar\"}], \"carpet\": [{\"aaxis\": {\"endlinecolor\": \"#2a3f5f\", \"gridcolor\": \"white\", \"linecolor\": \"white\", \"minorgridcolor\": \"white\", \"startlinecolor\": \"#2a3f5f\"}, \"baxis\": {\"endlinecolor\": \"#2a3f5f\", \"gridcolor\": \"white\", \"linecolor\": \"white\", \"minorgridcolor\": \"white\", \"startlinecolor\": \"#2a3f5f\"}, \"type\": \"carpet\"}], \"choropleth\": [{\"colorbar\": {\"outlinewidth\": 0, \"ticks\": \"\"}, \"type\": \"choropleth\"}], \"contour\": [{\"colorbar\": {\"outlinewidth\": 0, \"ticks\": \"\"}, \"colorscale\": [[0.0, \"#0d0887\"], [0.1111111111111111, \"#46039f\"], [0.2222222222222222, \"#7201a8\"], [0.3333333333333333, \"#9c179e\"], [0.4444444444444444, \"#bd3786\"], [0.5555555555555556, \"#d8576b\"], [0.6666666666666666, \"#ed7953\"], [0.7777777777777778, \"#fb9f3a\"], [0.8888888888888888, \"#fdca26\"], [1.0, \"#f0f921\"]], \"type\": \"contour\"}], \"contourcarpet\": [{\"colorbar\": {\"outlinewidth\": 0, \"ticks\": \"\"}, \"type\": \"contourcarpet\"}], \"heatmap\": [{\"colorbar\": {\"outlinewidth\": 0, \"ticks\": \"\"}, \"colorscale\": [[0.0, \"#0d0887\"], [0.1111111111111111, \"#46039f\"], [0.2222222222222222, \"#7201a8\"], [0.3333333333333333, \"#9c179e\"], [0.4444444444444444, \"#bd3786\"], [0.5555555555555556, \"#d8576b\"], [0.6666666666666666, \"#ed7953\"], [0.7777777777777778, \"#fb9f3a\"], [0.8888888888888888, \"#fdca26\"], [1.0, \"#f0f921\"]], \"type\": \"heatmap\"}], \"heatmapgl\": [{\"colorbar\": {\"outlinewidth\": 0, \"ticks\": \"\"}, \"colorscale\": [[0.0, \"#0d0887\"], [0.1111111111111111, \"#46039f\"], [0.2222222222222222, \"#7201a8\"], [0.3333333333333333, \"#9c179e\"], [0.4444444444444444, \"#bd3786\"], [0.5555555555555556, \"#d8576b\"], [0.6666666666666666, \"#ed7953\"], [0.7777777777777778, \"#fb9f3a\"], [0.8888888888888888, \"#fdca26\"], [1.0, \"#f0f921\"]], \"type\": \"heatmapgl\"}], \"histogram\": [{\"marker\": {\"colorbar\": {\"outlinewidth\": 0, \"ticks\": \"\"}}, \"type\": \"histogram\"}], \"histogram2d\": [{\"colorbar\": {\"outlinewidth\": 0, \"ticks\": \"\"}, \"colorscale\": [[0.0, \"#0d0887\"], [0.1111111111111111, \"#46039f\"], [0.2222222222222222, \"#7201a8\"], [0.3333333333333333, \"#9c179e\"], [0.4444444444444444, \"#bd3786\"], [0.5555555555555556, \"#d8576b\"], [0.6666666666666666, \"#ed7953\"], [0.7777777777777778, \"#fb9f3a\"], [0.8888888888888888, \"#fdca26\"], [1.0, \"#f0f921\"]], \"type\": \"histogram2d\"}], \"histogram2dcontour\": [{\"colorbar\": {\"outlinewidth\": 0, \"ticks\": \"\"}, \"colorscale\": [[0.0, \"#0d0887\"], [0.1111111111111111, \"#46039f\"], [0.2222222222222222, \"#7201a8\"], [0.3333333333333333, \"#9c179e\"], [0.4444444444444444, \"#bd3786\"], [0.5555555555555556, \"#d8576b\"], [0.6666666666666666, \"#ed7953\"], [0.7777777777777778, \"#fb9f3a\"], [0.8888888888888888, \"#fdca26\"], [1.0, \"#f0f921\"]], \"type\": \"histogram2dcontour\"}], \"mesh3d\": [{\"colorbar\": {\"outlinewidth\": 0, \"ticks\": \"\"}, \"type\": \"mesh3d\"}], \"parcoords\": [{\"line\": {\"colorbar\": {\"outlinewidth\": 0, \"ticks\": \"\"}}, \"type\": \"parcoords\"}], \"pie\": [{\"automargin\": true, \"type\": \"pie\"}], \"scatter\": [{\"marker\": {\"colorbar\": {\"outlinewidth\": 0, \"ticks\": \"\"}}, \"type\": \"scatter\"}], \"scatter3d\": [{\"line\": {\"colorbar\": {\"outlinewidth\": 0, \"ticks\": \"\"}}, \"marker\": {\"colorbar\": {\"outlinewidth\": 0, \"ticks\": \"\"}}, \"type\": \"scatter3d\"}], \"scattercarpet\": [{\"marker\": {\"colorbar\": {\"outlinewidth\": 0, \"ticks\": \"\"}}, \"type\": \"scattercarpet\"}], \"scattergeo\": [{\"marker\": {\"colorbar\": {\"outlinewidth\": 0, \"ticks\": \"\"}}, \"type\": \"scattergeo\"}], \"scattergl\": [{\"marker\": {\"colorbar\": {\"outlinewidth\": 0, \"ticks\": \"\"}}, \"type\": \"scattergl\"}], \"scattermapbox\": [{\"marker\": {\"colorbar\": {\"outlinewidth\": 0, \"ticks\": \"\"}}, \"type\": \"scattermapbox\"}], \"scatterpolar\": [{\"marker\": {\"colorbar\": {\"outlinewidth\": 0, \"ticks\": \"\"}}, \"type\": \"scatterpolar\"}], \"scatterpolargl\": [{\"marker\": {\"colorbar\": {\"outlinewidth\": 0, \"ticks\": \"\"}}, \"type\": \"scatterpolargl\"}], \"scatterternary\": [{\"marker\": {\"colorbar\": {\"outlinewidth\": 0, \"ticks\": \"\"}}, \"type\": \"scatterternary\"}], \"surface\": [{\"colorbar\": {\"outlinewidth\": 0, \"ticks\": \"\"}, \"colorscale\": [[0.0, \"#0d0887\"], [0.1111111111111111, \"#46039f\"], [0.2222222222222222, \"#7201a8\"], [0.3333333333333333, \"#9c179e\"], [0.4444444444444444, \"#bd3786\"], [0.5555555555555556, \"#d8576b\"], [0.6666666666666666, \"#ed7953\"], [0.7777777777777778, \"#fb9f3a\"], [0.8888888888888888, \"#fdca26\"], [1.0, \"#f0f921\"]], \"type\": \"surface\"}], \"table\": [{\"cells\": {\"fill\": {\"color\": \"#EBF0F8\"}, \"line\": {\"color\": \"white\"}}, \"header\": {\"fill\": {\"color\": \"#C8D4E3\"}, \"line\": {\"color\": \"white\"}}, \"type\": \"table\"}]}, \"layout\": {\"annotationdefaults\": {\"arrowcolor\": \"#2a3f5f\", \"arrowhead\": 0, \"arrowwidth\": 1}, \"autotypenumbers\": \"strict\", \"coloraxis\": {\"colorbar\": {\"outlinewidth\": 0, \"ticks\": \"\"}}, \"colorscale\": {\"diverging\": [[0, \"#8e0152\"], [0.1, \"#c51b7d\"], [0.2, \"#de77ae\"], [0.3, \"#f1b6da\"], [0.4, \"#fde0ef\"], [0.5, \"#f7f7f7\"], [0.6, \"#e6f5d0\"], [0.7, \"#b8e186\"], [0.8, \"#7fbc41\"], [0.9, \"#4d9221\"], [1, \"#276419\"]], \"sequential\": [[0.0, \"#0d0887\"], [0.1111111111111111, \"#46039f\"], [0.2222222222222222, \"#7201a8\"], [0.3333333333333333, \"#9c179e\"], [0.4444444444444444, \"#bd3786\"], [0.5555555555555556, \"#d8576b\"], [0.6666666666666666, \"#ed7953\"], [0.7777777777777778, \"#fb9f3a\"], [0.8888888888888888, \"#fdca26\"], [1.0, \"#f0f921\"]], \"sequentialminus\": [[0.0, \"#0d0887\"], [0.1111111111111111, \"#46039f\"], [0.2222222222222222, \"#7201a8\"], [0.3333333333333333, \"#9c179e\"], [0.4444444444444444, \"#bd3786\"], [0.5555555555555556, \"#d8576b\"], [0.6666666666666666, \"#ed7953\"], [0.7777777777777778, \"#fb9f3a\"], [0.8888888888888888, \"#fdca26\"], [1.0, \"#f0f921\"]]}, \"colorway\": [\"#636efa\", \"#EF553B\", \"#00cc96\", \"#ab63fa\", \"#FFA15A\", \"#19d3f3\", \"#FF6692\", \"#B6E880\", \"#FF97FF\", \"#FECB52\"], \"font\": {\"color\": \"#2a3f5f\"}, \"geo\": {\"bgcolor\": \"white\", \"lakecolor\": \"white\", \"landcolor\": \"#E5ECF6\", \"showlakes\": true, \"showland\": true, \"subunitcolor\": \"white\"}, \"hoverlabel\": {\"align\": \"left\"}, \"hovermode\": \"closest\", \"mapbox\": {\"style\": \"light\"}, \"paper_bgcolor\": \"white\", \"plot_bgcolor\": \"#E5ECF6\", \"polar\": {\"angularaxis\": {\"gridcolor\": \"white\", \"linecolor\": \"white\", \"ticks\": \"\"}, \"bgcolor\": \"#E5ECF6\", \"radialaxis\": {\"gridcolor\": \"white\", \"linecolor\": \"white\", \"ticks\": \"\"}}, \"scene\": {\"xaxis\": {\"backgroundcolor\": \"#E5ECF6\", \"gridcolor\": \"white\", \"gridwidth\": 2, \"linecolor\": \"white\", \"showbackground\": true, \"ticks\": \"\", \"zerolinecolor\": \"white\"}, \"yaxis\": {\"backgroundcolor\": \"#E5ECF6\", \"gridcolor\": \"white\", \"gridwidth\": 2, \"linecolor\": \"white\", \"showbackground\": true, \"ticks\": \"\", \"zerolinecolor\": \"white\"}, \"zaxis\": {\"backgroundcolor\": \"#E5ECF6\", \"gridcolor\": \"white\", \"gridwidth\": 2, \"linecolor\": \"white\", \"showbackground\": true, \"ticks\": \"\", \"zerolinecolor\": \"white\"}}, \"shapedefaults\": {\"line\": {\"color\": \"#2a3f5f\"}}, \"ternary\": {\"aaxis\": {\"gridcolor\": \"white\", \"linecolor\": \"white\", \"ticks\": \"\"}, \"baxis\": {\"gridcolor\": \"white\", \"linecolor\": \"white\", \"ticks\": \"\"}, \"bgcolor\": \"#E5ECF6\", \"caxis\": {\"gridcolor\": \"white\", \"linecolor\": \"white\", \"ticks\": \"\"}}, \"title\": {\"x\": 0.05}, \"xaxis\": {\"automargin\": true, \"gridcolor\": \"white\", \"linecolor\": \"white\", \"ticks\": \"\", \"title\": {\"standoff\": 15}, \"zerolinecolor\": \"white\", \"zerolinewidth\": 2}, \"yaxis\": {\"automargin\": true, \"gridcolor\": \"white\", \"linecolor\": \"white\", \"ticks\": \"\", \"title\": {\"standoff\": 15}, \"zerolinecolor\": \"white\", \"zerolinewidth\": 2}}}, \"title\": {\"font\": {\"color\": \"#4D5663\"}, \"text\": \"Earth Reserve Index Policy Curve Data Points\"}, \"xaxis\": {\"gridcolor\": \"#E1E5ED\", \"showgrid\": true, \"tickfont\": {\"color\": \"#4D5663\"}, \"title\": {\"font\": {\"color\": \"#4D5663\"}, \"text\": \"Percentage Each Indicator Has Changed from Base Year Level to Worst/Best Case Scenario\"}, \"zerolinecolor\": \"#E1E5ED\"}, \"yaxis\": {\"gridcolor\": \"#E1E5ED\", \"showgrid\": true, \"tickfont\": {\"color\": \"#4D5663\"}, \"title\": {\"font\": {\"color\": \"#4D5663\"}, \"text\": \"Resource & Ecosystem Degradation Index\"}, \"zerolinecolor\": \"#E1E5ED\"}},                        {\"showLink\": true, \"linkText\": \"Export to plot.ly\", \"plotlyServerURL\": \"https://plot.ly\", \"responsive\": true}                    ).then(function(){\n",
       "                            \n",
       "var gd = document.getElementById('aa4c6d33-338d-427f-a8b1-56409a863603');\n",
       "var x = new MutationObserver(function (mutations, observer) {{\n",
       "        var display = window.getComputedStyle(gd).display;\n",
       "        if (!display || display === 'none') {{\n",
       "            console.log([gd, 'removed!']);\n",
       "            Plotly.purge(gd);\n",
       "            observer.disconnect();\n",
       "        }}\n",
       "}});\n",
       "\n",
       "// Listen for the removal of the full notebook cells\n",
       "var notebookContainer = gd.closest('#notebook-container');\n",
       "if (notebookContainer) {{\n",
       "    x.observe(notebookContainer, {childList: true});\n",
       "}}\n",
       "\n",
       "// Listen for the clearing of the current output cell\n",
       "var outputEl = gd.closest('.output');\n",
       "if (outputEl) {{\n",
       "    x.observe(outputEl, {childList: true});\n",
       "}}\n",
       "\n",
       "                        })                };                });            </script>        </div>"
      ]
     },
     "metadata": {},
     "output_type": "display_data"
    }
   ],
   "source": [
    "df.iplot(\n",
    "x='c',\n",
    "y='b',\n",
    "categories='b',\n",
    "xTitle='Percentage Each Indicator Has Changed from Base Year Level to Worst/Best Case Scenario',\n",
    "yTitle='Resource & Ecosystem Degradation Index',\n",
    "title= 'Earth Reserve Index Policy Curve Data Points')"
   ]
  },
  {
   "cell_type": "code",
   "execution_count": null,
   "id": "brown-tiger",
   "metadata": {},
   "outputs": [],
   "source": []
  }
 ],
 "metadata": {
  "kernelspec": {
   "display_name": "Python 3",
   "language": "python",
   "name": "python3"
  },
  "language_info": {
   "codemirror_mode": {
    "name": "ipython",
    "version": 3
   },
   "file_extension": ".py",
   "mimetype": "text/x-python",
   "name": "python",
   "nbconvert_exporter": "python",
   "pygments_lexer": "ipython3",
   "version": "3.9.1"
  }
 },
 "nbformat": 4,
 "nbformat_minor": 5
}
